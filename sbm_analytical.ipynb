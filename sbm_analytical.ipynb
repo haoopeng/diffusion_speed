{
 "cells": [
  {
   "cell_type": "code",
   "execution_count": 1,
   "metadata": {},
   "outputs": [],
   "source": [
    "import sys\n",
    "import math\n",
    "import numpy as np\n",
    "import pickle\n",
    "from scipy.stats import binom\n",
    "from scipy.stats import poisson\n",
    "from scipy.special import binom as choose\n",
    "import matplotlib.pyplot as plt"
   ]
  },
  {
   "cell_type": "code",
   "execution_count": 2,
   "metadata": {},
   "outputs": [],
   "source": [
    "Data_Root = '/data/haopeng/Diffusion/SBM/'"
   ]
  },
  {
   "cell_type": "code",
   "execution_count": 3,
   "metadata": {},
   "outputs": [],
   "source": [
    "def F(m, k, R):\n",
    "    \"\"\" the F function that determines whether a node is over the threshold (R)\n",
    "    or not. Assuming the same threshold for everyone. \"\"\"\n",
    "    if m > R * k:\n",
    "        return 1\n",
    "    return 0\n",
    "\n",
    "def g_sum1(k, qbar, R):\n",
    "    s = 0.0\n",
    "    for m in range(k):\n",
    "        s += F(m, k, R) * choose(k-1, m) * qbar**m * (1.0-qbar)**(k-1-m)\n",
    "    return s\n",
    "\n",
    "def h_sum1(k, qbar, R):\n",
    "    s = 0.0\n",
    "    for m in range(k+1):\n",
    "        s += F(m, k, R) * choose(k, m) * qbar**m * (1.0-qbar)**(k-m)\n",
    "    return s\n",
    "\n",
    "def g_sum2(Pk, z, r0, qbar, R):\n",
    "    \"\"\" \n",
    "    Obtain q_{n+1} from q_n. \n",
    "\n",
    "    Pk: a list of tuples that contains (k, pk). \n",
    "    z: mean degree\n",
    "    r0: a list of the seed fraction for each community.\n",
    "\n",
    "    \"\"\"\n",
    "    qnext = []\n",
    "    for i in range(len(qbar)):\n",
    "        s = 0.0\n",
    "        for k, pk in Pk:\n",
    "            s += k*pk*g_sum1(k, qbar[i], R) / z\n",
    "        qnext.append(r0[i]+(1.0-r0[i])*s)\n",
    "    return np.array(qnext)\n",
    "\n",
    "def h_sum2(Pk, z, r0, qbar, R):\n",
    "    \"\"\" \n",
    "    Obtain r_{n+1} from q_n. \n",
    "\n",
    "    Pk: a list of tuples that contains (k, pk). \n",
    "    z: mean degree\n",
    "    r0: the seed fraction\n",
    "\n",
    "    \"\"\"\n",
    "    rnext = []\n",
    "    for i in range(len(qbar)):\n",
    "        s = 0.0\n",
    "        for k, pk in Pk:\n",
    "            s += pk * h_sum1(k, qbar[i], R)\n",
    "        rnext.append(r0[i] + (1 - r0[i]) * s)\n",
    "    return np.array(rnext)"
   ]
  },
  {
   "cell_type": "code",
   "execution_count": 4,
   "metadata": {},
   "outputs": [],
   "source": [
    "def total_fraction(rho):\n",
    "    return 0.5*rho[0] + 0.5*rho[1]\n",
    "\n",
    "def cal_qbar(q, e):\n",
    "    \"\"\" only applicable for # comm = 2 \"\"\"\n",
    "    qbar = []\n",
    "    for i in range(len(q)):\n",
    "        qbar.append((e[i][0] * q[0] + e[i][1] * q[1]) / (e[i][0] + e[i][1]))\n",
    "    return np.array(qbar)\n",
    "\n",
    "def non_negative(delta):\n",
    "    hold = np.zeros_like(delta)\n",
    "    return np.maximum(delta, hold)"
   ]
  },
  {
   "cell_type": "code",
   "execution_count": 5,
   "metadata": {},
   "outputs": [],
   "source": [
    "def cal_step_size(num_nodes, Pk, rho0, mu, thsh, frac=0.01):\n",
    "    \"\"\" from Pk and r0, calculate the final density rho using qbar_{\\inf}.\n",
    "        only one community (community 0) is seeded. \n",
    "    \"\"\"\n",
    "    step_size = [] # frac of active nodes in (1) whole network; (2) C1; (3) C2.\n",
    "    z = sum(k*pk for k, pk in Pk)\n",
    "    e = [[(1.0-mu),mu],[mu,(1.0-mu)]]\n",
    "    q = rho0.copy()\n",
    "    rho = rho0.copy()\n",
    "    rho_total_old = total_fraction(rho)\n",
    "    \n",
    "    step_size.append(np.array([total_fraction(rho0), rho0[0], rho0[1]]))\n",
    "    while True:\n",
    "        qbar = cal_qbar(q, e)\n",
    "        q_next = g_sum2(Pk, z, rho0, qbar, thsh)\n",
    "        q = non_negative(q_next - q) * frac + q\n",
    "        rho_next = h_sum2(Pk, z, rho0, qbar, thsh)\n",
    "        rho = non_negative(rho_next - rho) * frac + rho\n",
    "        rho_total = total_fraction(rho)\n",
    "        if abs(rho_total - rho_total_old)*num_nodes < 1:\n",
    "            break\n",
    "        step_size.append(np.array([rho_total, rho[0], rho[1]]))\n",
    "        rho_total_old = rho_total\n",
    "    return step_size\n",
    "\n",
    "def speed_each_step(step_size):\n",
    "    step_speed = []\n",
    "    total_step = len(step_size)-1 # e.g., index are 0, 1, 2.\n",
    "    for i in range(total_step):\n",
    "        step_speed.append(step_size[i+1] - step_size[i])\n",
    "    step_speed.append(np.array([0, 0, 0])) # zeros for the last step.\n",
    "    return step_speed"
   ]
  },
  {
   "cell_type": "code",
   "execution_count": 6,
   "metadata": {},
   "outputs": [],
   "source": [
    "num_nodes = 100000\n",
    "avg_degree = 10\n",
    "num_edges = num_nodes*avg_degree/2\n",
    "num_community = 2\n",
    "f = 0.01 #1.0"
   ]
  },
  {
   "cell_type": "code",
   "execution_count": 7,
   "metadata": {},
   "outputs": [],
   "source": [
    "b = poisson(avg_degree)\n",
    "Pk = [(k, prob) for (k, prob) in [(k, b.pmf(k)) for k in range(num_nodes)] if prob > 1/num_nodes]"
   ]
  },
  {
   "cell_type": "code",
   "execution_count": 8,
   "metadata": {},
   "outputs": [],
   "source": [
    "thsh = 0.35\n",
    "rho0 = np.array([0.2, 0])\n",
    "us = np.arange(0, 0.51, 0.01)"
   ]
  },
  {
   "cell_type": "code",
   "execution_count": 616,
   "metadata": {},
   "outputs": [],
   "source": [
    "step_size = cal_step_size(num_nodes, Pk, rho0, 0.5, thsh, frac=f)"
   ]
  },
  {
   "cell_type": "code",
   "execution_count": 617,
   "metadata": {
    "scrolled": true
   },
   "outputs": [
    {
     "data": {
      "text/plain": [
       "array([0.99994886, 0.9999503 , 0.99994741])"
      ]
     },
     "execution_count": 617,
     "metadata": {},
     "output_type": "execute_result"
    }
   ],
   "source": [
    "step_size[-1]"
   ]
  },
  {
   "cell_type": "code",
   "execution_count": 626,
   "metadata": {
    "scrolled": true
   },
   "outputs": [],
   "source": [
    "results_analy = {}\n",
    "\n",
    "for u in us:\n",
    "    step_size = cal_step_size(num_nodes, Pk, rho0, u, thsh, frac=f)\n",
    "    step_speed = speed_each_step(step_size)\n",
    "    results_analy[u] = (step_size, step_speed)"
   ]
  },
  {
   "cell_type": "code",
   "execution_count": 627,
   "metadata": {},
   "outputs": [],
   "source": [
    "with open(Data_Root+'analy_nodes_%sk_z_%s_thsh_%s_rho0_%s_f_%s.pickle'%(num_nodes//1000, avg_degree, thsh, rho0[0]/2, f), 'wb') as file:\n",
    "    pickle.dump(dict(results_analy), file)\n",
    "    "
   ]
  },
  {
   "cell_type": "code",
   "execution_count": 111,
   "metadata": {},
   "outputs": [],
   "source": [
    "with open(Data_Root+'analy_nodes_%sk_z_%s_thsh_%s_rho0_%s_f_%s.pickle'%(num_nodes//1000, avg_degree, thsh, rho0[0]/2, f), 'rb') as file:\n",
    "    results_analy = pickle.load(file)"
   ]
  },
  {
   "cell_type": "code",
   "execution_count": null,
   "metadata": {},
   "outputs": [],
   "source": []
  }
 ],
 "metadata": {
  "kernelspec": {
   "display_name": "Python 3",
   "language": "python",
   "name": "python3"
  },
  "language_info": {
   "codemirror_mode": {
    "name": "ipython",
    "version": 3
   },
   "file_extension": ".py",
   "mimetype": "text/x-python",
   "name": "python",
   "nbconvert_exporter": "python",
   "pygments_lexer": "ipython3",
   "version": "3.6.7"
  }
 },
 "nbformat": 4,
 "nbformat_minor": 2
}
