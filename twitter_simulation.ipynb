{
 "cells": [
  {
   "cell_type": "code",
   "execution_count": 1,
   "metadata": {},
   "outputs": [],
   "source": [
    "import os\n",
    "import csv\n",
    "import json\n",
    "import math\n",
    "import pickle\n",
    "import time\n",
    "import random\n",
    "import datetime\n",
    "import numpy as np\n",
    "import pandas as pd\n",
    "import community\n",
    "import networkx as nx\n",
    "import matplotlib\n",
    "import matplotlib.pyplot as plt\n",
    "import matplotlib.dates as mdates\n",
    "from collections import defaultdict\n",
    "from scipy.interpolate import griddata\n",
    "\n",
    "from util import *"
   ]
  },
  {
   "cell_type": "code",
   "execution_count": 2,
   "metadata": {},
   "outputs": [],
   "source": [
    "Data_Root = '/data/haopeng/Diffusion/RealNet/'\n",
    "net_name = 'twitter'"
   ]
  },
  {
   "cell_type": "code",
   "execution_count": 16,
   "metadata": {},
   "outputs": [],
   "source": [
    "G = nx.read_edgelist(Data_Root+'networks/twitter_combined.txt', delimiter=' ', create_using=nx.DiGraph(), nodetype=str)"
   ]
  },
  {
   "cell_type": "code",
   "execution_count": 11,
   "metadata": {},
   "outputs": [
    {
     "data": {
      "text/plain": [
       "81306"
      ]
     },
     "execution_count": 11,
     "metadata": {},
     "output_type": "execute_result"
    }
   ],
   "source": [
    "len(G.nodes())"
   ]
  },
  {
   "cell_type": "code",
   "execution_count": 12,
   "metadata": {},
   "outputs": [
    {
     "data": {
      "text/plain": [
       "1768149"
      ]
     },
     "execution_count": 12,
     "metadata": {},
     "output_type": "execute_result"
    }
   ],
   "source": [
    "len(G.edges())"
   ]
  },
  {
   "cell_type": "code",
   "execution_count": 17,
   "metadata": {},
   "outputs": [],
   "source": [
    "# G = G.to_undirected(reciprocal=True)\n",
    "G = G.to_undirected(reciprocal=False)"
   ]
  },
  {
   "cell_type": "code",
   "execution_count": 14,
   "metadata": {
    "scrolled": true
   },
   "outputs": [
    {
     "data": {
      "text/plain": [
       "81306"
      ]
     },
     "execution_count": 14,
     "metadata": {},
     "output_type": "execute_result"
    }
   ],
   "source": [
    "len(G.nodes())"
   ]
  },
  {
   "cell_type": "code",
   "execution_count": 15,
   "metadata": {},
   "outputs": [
    {
     "data": {
      "text/plain": [
       "425853"
      ]
     },
     "execution_count": 15,
     "metadata": {},
     "output_type": "execute_result"
    }
   ],
   "source": [
    "len(G.edges())"
   ]
  },
  {
   "cell_type": "code",
   "execution_count": 7,
   "metadata": {
    "scrolled": true
   },
   "outputs": [
    {
     "data": {
      "text/plain": [
       "81306"
      ]
     },
     "execution_count": 7,
     "metadata": {},
     "output_type": "execute_result"
    }
   ],
   "source": [
    "len(G.nodes())"
   ]
  },
  {
   "cell_type": "code",
   "execution_count": 8,
   "metadata": {},
   "outputs": [
    {
     "data": {
      "text/plain": [
       "1342310"
      ]
     },
     "execution_count": 8,
     "metadata": {},
     "output_type": "execute_result"
    }
   ],
   "source": [
    "len(G.edges())"
   ]
  },
  {
   "cell_type": "code",
   "execution_count": 18,
   "metadata": {},
   "outputs": [
    {
     "data": {
      "text/plain": [
       "True"
      ]
     },
     "execution_count": 18,
     "metadata": {},
     "output_type": "execute_result"
    }
   ],
   "source": [
    "nx.is_connected(G)"
   ]
  },
  {
   "cell_type": "code",
   "execution_count": 19,
   "metadata": {},
   "outputs": [],
   "source": [
    "# largest cc\n",
    "Gcc = max(nx.connected_components(G), key=len)\n",
    "Gcc = G.subgraph(Gcc).copy()"
   ]
  },
  {
   "cell_type": "code",
   "execution_count": 20,
   "metadata": {
    "scrolled": true
   },
   "outputs": [
    {
     "data": {
      "text/plain": [
       "81306"
      ]
     },
     "execution_count": 20,
     "metadata": {},
     "output_type": "execute_result"
    }
   ],
   "source": [
    "len(Gcc.nodes())"
   ]
  },
  {
   "cell_type": "code",
   "execution_count": 21,
   "metadata": {},
   "outputs": [
    {
     "data": {
      "text/plain": [
       "1342310"
      ]
     },
     "execution_count": 21,
     "metadata": {},
     "output_type": "execute_result"
    }
   ],
   "source": [
    "len(Gcc.edges())"
   ]
  },
  {
   "cell_type": "code",
   "execution_count": 22,
   "metadata": {},
   "outputs": [],
   "source": [
    "part = community.best_partition(Gcc, randomize=False)"
   ]
  },
  {
   "cell_type": "code",
   "execution_count": 23,
   "metadata": {},
   "outputs": [
    {
     "data": {
      "text/plain": [
       "81306"
      ]
     },
     "execution_count": 23,
     "metadata": {},
     "output_type": "execute_result"
    }
   ],
   "source": [
    "len(part)"
   ]
  },
  {
   "cell_type": "code",
   "execution_count": 24,
   "metadata": {
    "scrolled": true
   },
   "outputs": [
    {
     "data": {
      "text/plain": [
       "0.8064833076267355"
      ]
     },
     "execution_count": 24,
     "metadata": {},
     "output_type": "execute_result"
    }
   ],
   "source": [
    "community.modularity(part, Gcc)"
   ]
  },
  {
   "cell_type": "markdown",
   "metadata": {},
   "source": [
    "Calculate normalized modularity (also called assortative coeff)"
   ]
  },
  {
   "cell_type": "code",
   "execution_count": 28,
   "metadata": {
    "scrolled": true
   },
   "outputs": [
    {
     "data": {
      "text/plain": [
       "0.8581873118740464"
      ]
     },
     "execution_count": 28,
     "metadata": {},
     "output_type": "execute_result"
    }
   ],
   "source": [
    "attribute_assortativity_coefficient(Gcc, part)"
   ]
  },
  {
   "cell_type": "code",
   "execution_count": 25,
   "metadata": {},
   "outputs": [],
   "source": [
    "with open(Data_Root+'networks/partition_%s.pickle'%net_name, 'wb') as file:\n",
    "    pickle.dump(part, file)"
   ]
  },
  {
   "cell_type": "code",
   "execution_count": 26,
   "metadata": {},
   "outputs": [],
   "source": [
    "cid_nodes = defaultdict(set)\n",
    "\n",
    "for node, cid in part.items():\n",
    "    cid_nodes[cid].add(node)\n",
    "cid_nodes = dict(cid_nodes)"
   ]
  },
  {
   "cell_type": "code",
   "execution_count": 27,
   "metadata": {
    "scrolled": true
   },
   "outputs": [
    {
     "name": "stdout",
     "output_type": "stream",
     "text": [
      "There are 70 communities\n",
      "The smallest community has 27 nodes\n",
      "The largest community has 9567 nodes\n"
     ]
    }
   ],
   "source": [
    "print('There are %d communities'%len(cid_nodes))\n",
    "print('The smallest community has %d nodes'%min([len(li) for cid, li in cid_nodes.items()]))\n",
    "print('The largest community has %d nodes'%max([len(li) for cid, li in cid_nodes.items()]))"
   ]
  },
  {
   "cell_type": "markdown",
   "metadata": {},
   "source": [
    "### Simulation"
   ]
  },
  {
   "cell_type": "code",
   "execution_count": null,
   "metadata": {},
   "outputs": [],
   "source": [
    "num_nodes = len(Gcc.nodes())\n",
    "num_edges = len(Gcc.edges())\n",
    "num_community = len(cid_nodes)\n",
    "num_switches = num_edges//2"
   ]
  },
  {
   "cell_type": "code",
   "execution_count": null,
   "metadata": {},
   "outputs": [],
   "source": [
    "Gcc_cp, cid_cid_edges, valid_same_comm_pairs, valid_cross_comm_pairs = prepare_data(Gcc, part)"
   ]
  },
  {
   "cell_type": "code",
   "execution_count": null,
   "metadata": {},
   "outputs": [],
   "source": [
    "print('Only %d pairs of communities (including same pair) have edges running between'%len(cid_cid_edges))\n",
    "print('We can sample cross-community edges from %d pairs of communities.'%len(valid_cross_comm_pairs))\n",
    "print('We can sample same-community edges from %d communities.'%len(valid_same_comm_pairs))"
   ]
  },
  {
   "cell_type": "code",
   "execution_count": 3,
   "metadata": {},
   "outputs": [],
   "source": [
    "rho = 0.1\n",
    "num_seeds = int(rho*num_nodes)\n",
    "thsh = 0.3\n",
    "num_runs = 100\n",
    "f = 0.01\n",
    "ps = np.arange(0, 1.02, 0.02)"
   ]
  },
  {
   "cell_type": "code",
   "execution_count": 31,
   "metadata": {},
   "outputs": [],
   "source": [
    "p_to_Q = {}\n",
    "\n",
    "for p in [0.2, 0.4, 0.6, 0.8]:\n",
    "    Gcc_cp, cid_cid_edges, valid_same_comm_pairs, valid_cross_comm_pairs = prepare_data(Gcc, part)\n",
    "    swap_edges(Gcc_cp, cid_cid_edges, valid_same_comm_pairs, valid_cross_comm_pairs, num_switches, p)\n",
    "    Q_norm = attribute_assortativity_coefficient(Gcc_cp, part)\n",
    "    p_to_Q[p] = Q_norm"
   ]
  },
  {
   "cell_type": "code",
   "execution_count": 32,
   "metadata": {
    "scrolled": true
   },
   "outputs": [
    {
     "data": {
      "text/plain": [
       "{0.2: 0.8987552789940185,\n",
       " 0.4: 0.8142596885877709,\n",
       " 0.6: 0.5632462838718277,\n",
       " 0.8: 0.19641590717090365}"
      ]
     },
     "execution_count": 32,
     "metadata": {},
     "output_type": "execute_result"
    }
   ],
   "source": [
    "p_to_Q"
   ]
  },
  {
   "cell_type": "markdown",
   "metadata": {},
   "source": [
    "### Phase diagram"
   ]
  },
  {
   "cell_type": "markdown",
   "metadata": {},
   "source": [
    "First run the script in the folder `twitter_hpc` on hpc.\n",
    "- run this command: `sbatch twitter_hpc.slurm`"
   ]
  },
  {
   "cell_type": "code",
   "execution_count": null,
   "metadata": {},
   "outputs": [],
   "source": [
    "# results = defaultdict(dict)\n",
    "\n",
    "# for i in range(51):\n",
    "#     p = ps[i]\n",
    "#     with open(Data_Root+'per_step_data/phase_simu_%s_thsh_%s_f_%s_%s.pickle'%(net_name, thsh, f, i), 'rb') as file:\n",
    "#         tem = pickle.load(file)\n",
    "#         for rho, li in tem.items():\n",
    "#             results[rho][p] = li"
   ]
  },
  {
   "cell_type": "code",
   "execution_count": null,
   "metadata": {},
   "outputs": [],
   "source": [
    "# with open(Data_Root+'per_step_data/phase_simu_%s_thsh_%s_f_%s.pickle'%(net_name, thsh, f), 'wb') as file:\n",
    "#     pickle.dump(dict(results), file)"
   ]
  },
  {
   "cell_type": "code",
   "execution_count": 8,
   "metadata": {},
   "outputs": [],
   "source": [
    "with open(Data_Root+'per_step_data/phase_simu_%s_thsh_%s_f_%s.pickle'%(net_name, thsh, f), 'rb') as file:\n",
    "    results = pickle.load(file)"
   ]
  },
  {
   "cell_type": "code",
   "execution_count": 5,
   "metadata": {},
   "outputs": [],
   "source": [
    "rhos = np.arange(0, 0.51, 0.01)"
   ]
  },
  {
   "cell_type": "code",
   "execution_count": 11,
   "metadata": {},
   "outputs": [],
   "source": [
    "sweeping_results = defaultdict(dict)\n",
    "\n",
    "for rho in rhos:\n",
    "    num_seeds = int(rho*num_nodes)\n",
    "    for u in ps:\n",
    "        tem_results = []\n",
    "        for size, step, activation_per_step in results[rho][u]:\n",
    "            tem_results.append((size, step))\n",
    "        sizes = [size/num_nodes for (size, step) in tem_results]\n",
    "        rates = [(size-num_seeds)/(step*num_nodes) if step > 0 else 0 for (size, step) in tem_results]\n",
    "        sweeping_results[rho][u] = (sizes, rates)"
   ]
  },
  {
   "cell_type": "code",
   "execution_count": 12,
   "metadata": {},
   "outputs": [],
   "source": [
    "x_range = np.arange(0, 1.001, 0.001)\n",
    "y_range = np.arange(0, 0.501, 0.001)\n",
    "X, Y = np.meshgrid(x_range, y_range)"
   ]
  },
  {
   "cell_type": "code",
   "execution_count": 13,
   "metadata": {},
   "outputs": [],
   "source": [
    "points = []\n",
    "values_size = []\n",
    "values_rate = []\n",
    "lower_boundary = []\n",
    "upper_boundary = []\n",
    "max_rate = []\n",
    "            \n",
    "for rho in rhos:\n",
    "    lower_u, upper_u = 'none', 'none'\n",
    "    # u refers p here.\n",
    "    for u in ps:\n",
    "        points.append([u, rho])\n",
    "        avg_size = np.mean(sweeping_results[rho][u][0])\n",
    "        values_size.append(avg_size)\n",
    "        avg_rate = np.mean(sweeping_results[rho][u][1])\n",
    "        values_rate.append(avg_rate)\n",
    "        \n",
    "        if avg_size >= 0.99:\n",
    "            if lower_u == 'none':\n",
    "                lower_u = u\n",
    "            upper_u = u\n",
    "    if lower_u < upper_u:\n",
    "        lower_boundary.append([lower_u, rho])\n",
    "        upper_boundary.append([upper_u, rho])\n",
    "        optimal_u = 0\n",
    "        min_rate = np.mean(sweeping_results[rho][lower_u][1])\n",
    "        for u in ps:\n",
    "            if u >= lower_u and u <= upper_u:\n",
    "                avg_rate = np.mean(sweeping_results[rho][u][1])\n",
    "                if avg_rate >= min_rate:\n",
    "                    optimal_u = u\n",
    "                    min_rate = avg_rate\n",
    "        max_rate.append([optimal_u, rho])\n",
    "\n",
    "lower_boundary = np.array(lower_boundary)\n",
    "upper_boundary = np.array(upper_boundary)\n",
    "max_rate = np.array(max_rate)\n",
    "\n",
    "Z_size = griddata(points, values_size, (X, Y), method = 'cubic')\n",
    "Z_rate = griddata(points, values_rate, (X, Y), method = 'cubic')"
   ]
  },
  {
   "cell_type": "code",
   "execution_count": 14,
   "metadata": {},
   "outputs": [],
   "source": [
    "class OOMFormatter(matplotlib.ticker.ScalarFormatter):\n",
    "    def __init__(self, order=0, fformat=\"%1.0f\", offset=True, mathText=True):\n",
    "        self.oom = order\n",
    "        self.fformat = fformat\n",
    "        matplotlib.ticker.ScalarFormatter.__init__(self,useOffset=offset,useMathText=mathText)\n",
    "    def _set_orderOfMagnitude(self, nothing):\n",
    "        self.orderOfMagnitude = self.oom\n",
    "    def _set_format(self, vmin, vmax):\n",
    "        self.format = self.fformat\n",
    "        if self._useMathText:\n",
    "            self.format = '$%s$' % matplotlib.ticker._mathdefault(self.format)"
   ]
  },
  {
   "cell_type": "code",
   "execution_count": 43,
   "metadata": {},
   "outputs": [
    {
     "data": {
      "image/png": "[encoded data removed]",
      "text/plain": [
       "<Figure size 252x201.6 with 3 Axes>"
      ]
     },
     "metadata": {},
     "output_type": "display_data"
    }
   ],
   "source": [
    "fig, ax = plt.subplots(figsize = (3.5, 2.8))\n",
    "levels = np.linspace(0.0, 11e-4, 12)\n",
    "ct = ax.contourf(X, Y, Z_rate, cmap = 'Blues', levels=levels)#, extend='min'\n",
    "cb = fig.colorbar(ct, ax=ax, fraction=0.05, pad=0.02, format=OOMFormatter(-4, mathText=False))\n",
    "cb.ax.tick_params(axis='y', direction='in')\n",
    "\n",
    "ax.plot(lower_boundary[:, 0], lower_boundary[:, 1], linewidth = 2, color='r')\n",
    "ax.plot(upper_boundary[:, 0], upper_boundary[:, 1], linewidth = 2, color='r')\n",
    "ax.plot(max_rate[:, 0], max_rate[:, 1], linewidth = 2, color='b')\n",
    "# ax.axhline(y=0.10, linewidth=1, linestyle='--', color='k')\n",
    "# ax.text(0.05, 0.95, 'a', fontsize=12, ha='left', va='top', transform=ax.transAxes)\n",
    "ax.set_xlabel(r'$p$')\n",
    "ax.set_ylabel(r'$\\rho_0$')\n",
    "ax.set_xlim(0, 1)\n",
    "ax.set_ylim(0, 0.5)\n",
    "xticks = [0.2, 0.4, 0.6, 0.8]\n",
    "ax.set_xticks(xticks)\n",
    "ax.set_title('Twitter', pad = 35)\n",
    "\n",
    "ax2 = ax.twiny()\n",
    "ax2.set_xlim(ax.get_xlim())\n",
    "ax2.set_xticks(xticks)\n",
    "ax2.set_xticklabels([\"%.2f\"%p_to_Q[p] for p in xticks])\n",
    "ax2.set_xlabel(r\"$Q_{norm}$\")\n",
    "\n",
    "plt.show()\n",
    "fig.savefig('%s_phase.pdf'%net_name, bbox_inches='tight', pad_inches=0.02)"
   ]
  },
  {
   "cell_type": "code",
   "execution_count": null,
   "metadata": {},
   "outputs": [],
   "source": []
  }
 ],
 "metadata": {
  "kernelspec": {
   "display_name": "Python 3",
   "language": "python",
   "name": "python3"
  },
  "language_info": {
   "codemirror_mode": {
    "name": "ipython",
    "version": 3
   },
   "file_extension": ".py",
   "mimetype": "text/x-python",
   "name": "python",
   "nbconvert_exporter": "python",
   "pygments_lexer": "ipython3",
   "version": "3.6.7"
  }
 },
 "nbformat": 4,
 "nbformat_minor": 2
}
