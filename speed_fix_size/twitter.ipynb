{
 "cells": [
  {
   "cell_type": "code",
   "execution_count": 1,
   "metadata": {},
   "outputs": [],
   "source": [
    "import math\n",
    "import random\n",
    "import pickle\n",
    "import datetime\n",
    "import numpy as np\n",
    "import networkx as nx\n",
    "import matplotlib\n",
    "import matplotlib.pyplot as plt\n",
    "import matplotlib.ticker as ticker\n",
    "from collections import defaultdict\n",
    "from scipy.interpolate import griddata"
   ]
  },
  {
   "cell_type": "code",
   "execution_count": 2,
   "metadata": {},
   "outputs": [],
   "source": [
    "class OOMFormatter(matplotlib.ticker.ScalarFormatter):\n",
    "    def __init__(self, order=0, fformat=\"%1.0f\", offset=True, mathText=True):\n",
    "        self.oom = order\n",
    "        self.fformat = fformat\n",
    "        matplotlib.ticker.ScalarFormatter.__init__(self,useOffset=offset,useMathText=mathText)\n",
    "    def _set_orderOfMagnitude(self, nothing):\n",
    "        self.orderOfMagnitude = self.oom\n",
    "    def _set_format(self, vmin, vmax):\n",
    "        self.format = self.fformat\n",
    "        if self._useMathText:\n",
    "            self.format = '$%s$' % matplotlib.ticker._mathdefault(self.format)"
   ]
  },
  {
   "cell_type": "code",
   "execution_count": 3,
   "metadata": {},
   "outputs": [],
   "source": [
    "Data_Root = '/l/nx/data/haopeng/Diffusion/RealNet/per_step_data/'\n",
    "net_name = 'twitter'"
   ]
  },
  {
   "cell_type": "code",
   "execution_count": 4,
   "metadata": {},
   "outputs": [],
   "source": [
    "with open('/l/nx/data/haopeng/Diffusion/RealNet/networks/partition_%s.pickle'%net_name, 'rb') as file:\n",
    "    part = pickle.load(file)"
   ]
  },
  {
   "cell_type": "code",
   "execution_count": 5,
   "metadata": {},
   "outputs": [],
   "source": [
    "num_nodes = len(part)\n",
    "num_runs = 100\n",
    "thsh = 0.3\n",
    "f = 0.01"
   ]
  },
  {
   "cell_type": "code",
   "execution_count": 8,
   "metadata": {},
   "outputs": [
    {
     "data": {
      "text/plain": [
       "81306"
      ]
     },
     "execution_count": 8,
     "metadata": {},
     "output_type": "execute_result"
    }
   ],
   "source": [
    "num_nodes"
   ]
  },
  {
   "cell_type": "code",
   "execution_count": 9,
   "metadata": {},
   "outputs": [],
   "source": [
    "rhos = np.arange(0, 0.51, 0.01)\n",
    "ps = np.arange(0, 1.02, 0.02)"
   ]
  },
  {
   "cell_type": "code",
   "execution_count": 5,
   "metadata": {},
   "outputs": [],
   "source": [
    "sweeping_results = defaultdict(dict)"
   ]
  },
  {
   "cell_type": "code",
   "execution_count": 48,
   "metadata": {},
   "outputs": [],
   "source": [
    "# run on hpc (see `twitter_hpc.py`)"
   ]
  },
  {
   "cell_type": "code",
   "execution_count": 7,
   "metadata": {},
   "outputs": [],
   "source": [
    "# for i in range(51):\n",
    "#     p = ps[i]\n",
    "#     with open(Data_Root+'fix_thsh/phase_simu_%s_thsh_%s_f_%s_%s.pickle'%(net_name, thsh, f, i), 'rb') as file:\n",
    "#         tem = pickle.load(file)\n",
    "#         for rho, li in tem.items():\n",
    "#             sweeping_results[rho][p] = li"
   ]
  },
  {
   "cell_type": "code",
   "execution_count": 8,
   "metadata": {},
   "outputs": [],
   "source": [
    "# with open(Data_Root+'phase_simu_%s_thsh_%s_f_%s.pickle'%(net_name, thsh, f), 'wb') as file:\n",
    "#     pickle.dump(dict(sweeping_results), file)"
   ]
  },
  {
   "cell_type": "code",
   "execution_count": 10,
   "metadata": {
    "scrolled": true
   },
   "outputs": [],
   "source": [
    "with open(Data_Root+'phase_simu_%s_thsh_%s_f_%s.pickle'%(net_name, thsh, f), 'rb') as file:\n",
    "    sweeping_results = pickle.load(file)"
   ]
  },
  {
   "cell_type": "code",
   "execution_count": 11,
   "metadata": {},
   "outputs": [],
   "source": [
    "def get_time_to_target(li, target):\n",
    "    if target == num_nodes:\n",
    "        target = num_nodes * 0.99\n",
    "    li = np.array(li)\n",
    "    li = np.cumsum(li)\n",
    "    for i, tot in enumerate(li):\n",
    "        if tot >= target:\n",
    "            return i+1\n",
    "    else:\n",
    "        return 'impossible'"
   ]
  },
  {
   "cell_type": "code",
   "execution_count": 12,
   "metadata": {},
   "outputs": [],
   "source": [
    "x_range = np.arange(0, 1.001, 0.001)\n",
    "y_range = np.arange(0, 0.501, 0.001)\n",
    "X, Y = np.meshgrid(x_range, y_range)"
   ]
  },
  {
   "cell_type": "markdown",
   "metadata": {},
   "source": [
    "### Reach a target cascade size (phase diagram)"
   ]
  },
  {
   "cell_type": "code",
   "execution_count": 54,
   "metadata": {},
   "outputs": [],
   "source": [
    "target_size = 0.20\n",
    "target_size = 0.35\n",
    "target_size = 0.50"
   ]
  },
  {
   "cell_type": "code",
   "execution_count": 55,
   "metadata": {},
   "outputs": [],
   "source": [
    "points = []\n",
    "rates_fix_size = []\n",
    "max_rate = []\n",
    "\n",
    "for rho in rhos:\n",
    "    if rho < target_size:\n",
    "        tem_max = 0\n",
    "        max_u = 0\n",
    "        for u in ps:\n",
    "            rates = []\n",
    "            for size, step, activation_per_step in sweeping_results[rho][u]:\n",
    "                time_ss = get_time_to_target(activation_per_step, int(target_size * num_nodes))\n",
    "                if time_ss != 'impossible':\n",
    "                    rates.append((target_size-rho)/time_ss)\n",
    "            # if len(rates) > 0:\n",
    "            if len(rates) == num_runs:\n",
    "                avg_rate = np.mean(rates)\n",
    "                rates_fix_size.append(avg_rate)\n",
    "                if avg_rate > tem_max:\n",
    "                    max_u = u\n",
    "                    tem_max = avg_rate\n",
    "                points.append([u, rho])\n",
    "        if tem_max > 0:\n",
    "            max_rate.append([max_u, rho])\n",
    "max_rate = np.array(max_rate)\n",
    "Z_rate = griddata(points, rates_fix_size, (X, Y), method = 'cubic')"
   ]
  },
  {
   "cell_type": "code",
   "execution_count": 48,
   "metadata": {
    "scrolled": true
   },
   "outputs": [
    {
     "data": {
      "image/png": "[encoded data removed]",
      "text/plain": [
       "<Figure size 216x162 with 2 Axes>"
      ]
     },
     "metadata": {},
     "output_type": "display_data"
    }
   ],
   "source": [
    "fig, ax = plt.subplots(figsize = (3, 2.25))\n",
    "levels = np.linspace(0.0, 45e-4, 20)\n",
    "ct = ax.contourf(X, Y, Z_rate, cmap = 'Blues', levels=levels)#, extend='min'\n",
    "cb = fig.colorbar(ct, ax=ax, fraction=0.05, pad=0.02, format=OOMFormatter(-4, mathText=False))\n",
    "cb.ax.tick_params(axis='y', direction='in')\n",
    "ax.plot(max_rate[:, 0], max_rate[:, 1], linewidth = 2, color='b')\n",
    "ax.set_xlabel(r'$p$')\n",
    "ax.set_ylabel(r'$\\rho_0$')\n",
    "ax.set_xlim(0, 1)\n",
    "ax.set_ylim(0, 0.5)\n",
    "ax.set_title(r'$\\rho_t = %.2f$'%target_size)\n",
    "plt.show()\n",
    "fig.savefig('Twitter_phase_target_%.2f.pdf'%target_size, bbox_inches='tight', pad_inches=0.02)"
   ]
  },
  {
   "cell_type": "markdown",
   "metadata": {},
   "source": [
    "### Optimal modularity vs. Target size for different seed sizes"
   ]
  },
  {
   "cell_type": "code",
   "execution_count": 32,
   "metadata": {},
   "outputs": [],
   "source": [
    "rho0s = [0.1, 0.15, 0.2, 0.25, 0.3]\n",
    "rho0_dict = defaultdict(list)\n",
    "\n",
    "for rho in rho0s:\n",
    "    targets = np.arange(rho+0.05, 1, 0.05)\n",
    "    targets = np.append(targets, 0.99)\n",
    "    for target_size in targets:\n",
    "        max_avg, max_u = 0, -1\n",
    "        for u in ps:\n",
    "            rates = []\n",
    "            sizes = []\n",
    "            for size, step, activation_per_step in sweeping_results[rho][u]:\n",
    "                sizes.append(size/num_nodes)\n",
    "                time_ss = get_time_to_target(activation_per_step, int(target_size * num_nodes))\n",
    "                if time_ss != 'impossible':\n",
    "                    rates.append((target_size-rho)/time_ss)\n",
    "            # if the avg final size is at least the target size, then we count it as possible to reach the target.\n",
    "            if np.mean(sizes) >= target_size:\n",
    "                # under this condition, rates is impossible to be an empty list.\n",
    "                avg_rate = np.mean(rates)\n",
    "                if avg_rate > max_avg:\n",
    "                    max_avg = avg_rate\n",
    "                    max_u = u\n",
    "        if max_u != -1:\n",
    "            rho0_dict[rho].append([target_size, max_u])\n",
    "    rho0_dict[rho] = np.array(rho0_dict[rho])"
   ]
  },
  {
   "cell_type": "code",
   "execution_count": 14,
   "metadata": {},
   "outputs": [
    {
     "data": {
      "image/png": "[encoded data removed]",
      "text/plain": [
       "<Figure size 288x230.4 with 1 Axes>"
      ]
     },
     "metadata": {},
     "output_type": "display_data"
    }
   ],
   "source": [
    "fig, ax = plt.subplots(figsize = (4, 3.2))\n",
    "\n",
    "markers = ['-gs', '-yx', '-bv', '-ro', '-k^']\n",
    "# markers = ['-s', '-x', '-v', '-o', '-^']\n",
    "# cols = ['#FFB2B2', '#FF7F7F', '#FF4C4C', '#FF1919', '#990000']\n",
    "\n",
    "for rho, mk in zip(rho0s, markers):\n",
    "    target_max_u = rho0_dict[rho]\n",
    "    ax.plot(target_max_u[:, 0], target_max_u[:, 1], mk, markersize = 2, linewidth = 1.5, label=r'$\\rho_0 = %.2f$'%rho)\n",
    "legend = ax.legend(loc=[0.02, 0.45], numpoints=2, labelspacing = 0.06, shadow=False, frameon = False)\n",
    "ax.set_xlabel(r'target cascade size $\\Omega$')\n",
    "ax.set_ylabel(r'optimal $p$ for diffusion speed')\n",
    "# ax.tick_params(axis='y', labelcolor = col1, direction='out')\n",
    "ax.set_xlim([-0.1, 1.02])\n",
    "ax.set_ylim([-0.1, 1.1])\n",
    "ax.set_title('Twitter')\n",
    "\n",
    "plt.show()\n",
    "fig.savefig('Twitter_opt_mu_vs_target.pdf', bbox_inches='tight', pad_inches=0.02)"
   ]
  }
 ],
 "metadata": {
  "kernelspec": {
   "display_name": "Python 3",
   "language": "python",
   "name": "python3"
  },
  "language_info": {
   "codemirror_mode": {
    "name": "ipython",
    "version": 3
   },
   "file_extension": ".py",
   "mimetype": "text/x-python",
   "name": "python",
   "nbconvert_exporter": "python",
   "pygments_lexer": "ipython3",
   "version": "3.6.7"
  }
 },
 "nbformat": 4,
 "nbformat_minor": 2
}
