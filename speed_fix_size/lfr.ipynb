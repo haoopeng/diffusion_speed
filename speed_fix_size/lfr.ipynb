{
 "cells": [
  {
   "cell_type": "code",
   "execution_count": 1,
   "metadata": {},
   "outputs": [],
   "source": [
    "import math\n",
    "import random\n",
    "import pickle\n",
    "import datetime\n",
    "import numpy as np\n",
    "import networkx as nx\n",
    "import matplotlib\n",
    "import matplotlib.pyplot as plt\n",
    "import matplotlib.ticker as ticker\n",
    "from collections import defaultdict\n",
    "from scipy.interpolate import griddata"
   ]
  },
  {
   "cell_type": "code",
   "execution_count": 2,
   "metadata": {},
   "outputs": [],
   "source": [
    "class OOMFormatter(matplotlib.ticker.ScalarFormatter):\n",
    "    def __init__(self, order=0, fformat=\"%1.0f\", offset=True, mathText=True):\n",
    "        self.oom = order\n",
    "        self.fformat = fformat\n",
    "        matplotlib.ticker.ScalarFormatter.__init__(self,useOffset=offset,useMathText=mathText)\n",
    "    def _set_orderOfMagnitude(self, nothing):\n",
    "        self.orderOfMagnitude = self.oom\n",
    "    def _set_format(self, vmin, vmax):\n",
    "        self.format = self.fformat\n",
    "        if self._useMathText:\n",
    "            self.format = '$%s$' % matplotlib.ticker._mathdefault(self.format)"
   ]
  },
  {
   "cell_type": "code",
   "execution_count": 3,
   "metadata": {},
   "outputs": [],
   "source": [
    "num_nodes = 25000\n",
    "avg_degree = 10\n",
    "thsh = 0.3\n",
    "num_runs = 100\n",
    "f = 0.01"
   ]
  },
  {
   "cell_type": "code",
   "execution_count": 4,
   "metadata": {},
   "outputs": [],
   "source": [
    "rhos = np.arange(0, 0.51, 0.01)\n",
    "us = np.arange(0.1, 1.00, 0.02)"
   ]
  },
  {
   "cell_type": "code",
   "execution_count": 5,
   "metadata": {},
   "outputs": [],
   "source": [
    "sweeping_results = {}"
   ]
  },
  {
   "cell_type": "code",
   "execution_count": 48,
   "metadata": {},
   "outputs": [],
   "source": [
    "# run on hpc (see `lfr_hpc.py`)"
   ]
  },
  {
   "cell_type": "code",
   "execution_count": 6,
   "metadata": {},
   "outputs": [],
   "source": [
    "Data_Root = '/l/nx/data/haopeng/Diffusion/LFR/per_step_data/'"
   ]
  },
  {
   "cell_type": "code",
   "execution_count": 9,
   "metadata": {},
   "outputs": [],
   "source": [
    "# for i in range(51):\n",
    "#     rho = rhos[i]\n",
    "#     with open(Data_Root+'fix_thsh/phase_simu_nodes_%sk_z_%s_thsh_%s_f_%s_%s.pickle'%(num_nodes//1000, avg_degree, thsh, f, i), 'rb') as file:\n",
    "#         tem = pickle.load(file)\n",
    "#         sweeping_results[rho] = tem"
   ]
  },
  {
   "cell_type": "code",
   "execution_count": 10,
   "metadata": {},
   "outputs": [],
   "source": [
    "# with open(Data_Root+'phase_simu_nodes_%sk_z_%s_thsh_%s_f_%s.pickle'%(num_nodes//1000, avg_degree, thsh, f), 'wb') as file:\n",
    "#     pickle.dump(dict(sweeping_results), file)"
   ]
  },
  {
   "cell_type": "code",
   "execution_count": 7,
   "metadata": {
    "scrolled": true
   },
   "outputs": [],
   "source": [
    "with open(Data_Root+'phase_simu_nodes_%sk_z_%s_thsh_%s_f_%s.pickle'%(num_nodes//1000, avg_degree, thsh, f), 'rb') as file:\n",
    "    sweeping_results = pickle.load(file)"
   ]
  },
  {
   "cell_type": "code",
   "execution_count": 8,
   "metadata": {},
   "outputs": [],
   "source": [
    "def get_time_to_target(li, target):\n",
    "    if target == num_nodes:\n",
    "        target = num_nodes * 0.99\n",
    "    li = np.array(li)\n",
    "    li = np.cumsum(li)\n",
    "    for i, tot in enumerate(li):\n",
    "        if tot >= target:\n",
    "            return i+1\n",
    "    else:\n",
    "        return 'impossible'"
   ]
  },
  {
   "cell_type": "code",
   "execution_count": 9,
   "metadata": {},
   "outputs": [],
   "source": [
    "x_range = np.arange(0, 1.01, 0.001)\n",
    "y_range = np.arange(0, 0.51, 0.001)\n",
    "X, Y = np.meshgrid(x_range, y_range)"
   ]
  },
  {
   "cell_type": "markdown",
   "metadata": {},
   "source": [
    "### Reach a target cascade size (phase diagram)"
   ]
  },
  {
   "cell_type": "code",
   "execution_count": 105,
   "metadata": {},
   "outputs": [],
   "source": [
    "target_size = 0.20\n",
    "target_size = 0.35\n",
    "target_size = 0.50"
   ]
  },
  {
   "cell_type": "code",
   "execution_count": 106,
   "metadata": {},
   "outputs": [],
   "source": [
    "points = []\n",
    "rates_fix_size = []\n",
    "max_rate = []\n",
    "\n",
    "for rho in rhos:\n",
    "    if rho < target_size:\n",
    "        tem_max = 0\n",
    "        max_u = 0\n",
    "        for u in us:\n",
    "            rates = []\n",
    "            for size, step, activation_per_step in sweeping_results[rho][u]:\n",
    "                time_ss = get_time_to_target(activation_per_step, int(target_size * num_nodes))\n",
    "                if time_ss != 'impossible':\n",
    "                    rates.append((target_size-rho)/time_ss)\n",
    "            if len(rates) == num_runs:\n",
    "                avg_rate = np.mean(rates)\n",
    "                rates_fix_size.append(avg_rate)\n",
    "                if avg_rate > tem_max:\n",
    "                    max_u = u\n",
    "                    tem_max = avg_rate\n",
    "                points.append([u, rho])\n",
    "        if tem_max > 0:\n",
    "            max_rate.append([max_u, rho])\n",
    "max_rate = np.array(max_rate)\n",
    "Z_rate = griddata(points, rates_fix_size, (X, Y), method = 'cubic')"
   ]
  },
  {
   "cell_type": "code",
   "execution_count": 104,
   "metadata": {},
   "outputs": [
    {
     "data": {
      "image/png": "[encoded data removed]",
      "text/plain": [
       "<Figure size 216x162 with 2 Axes>"
      ]
     },
     "metadata": {},
     "output_type": "display_data"
    }
   ],
   "source": [
    "fig, ax = plt.subplots(figsize = (3, 2.25))\n",
    "levels = np.linspace(0.0, 45e-4, 20)\n",
    "ct = ax.contourf(X, Y, Z_rate, cmap = 'Blues', levels=levels)#, extend='min'\n",
    "cb = fig.colorbar(ct, ax=ax, fraction=0.05, pad=0.02, format=OOMFormatter(-4, mathText=False))\n",
    "cb.ax.tick_params(axis='y', direction='in')\n",
    "ax.plot(max_rate[:-1, 0], max_rate[:-1, 1], linewidth = 2, color='b')\n",
    "ax.set_xlim(0.1, 0.98)\n",
    "ax.set_xlabel(r'$\\mu$')\n",
    "ax.set_ylabel(r'$\\rho_0$')\n",
    "ax.set_title(r'$\\rho_t = %.2f$'%target_size)\n",
    "plt.show()\n",
    "fig.savefig('LFR_phase_target_%.2f.pdf'%target_size, bbox_inches='tight', pad_inches=0.02)"
   ]
  },
  {
   "cell_type": "code",
   "execution_count": 107,
   "metadata": {},
   "outputs": [
    {
     "data": {
      "image/png": "[encoded data removed]",
      "text/plain": [
       "<Figure size 216x162 with 2 Axes>"
      ]
     },
     "metadata": {},
     "output_type": "display_data"
    }
   ],
   "source": [
    "fig, ax = plt.subplots(figsize = (3, 2.25))\n",
    "levels = np.linspace(0.0, 45e-4, 20)\n",
    "ct = ax.contourf(X, Y, Z_rate, cmap = 'Blues', levels=levels)#, extend='min'\n",
    "cb = fig.colorbar(ct, ax=ax, fraction=0.05, pad=0.02, format=OOMFormatter(-4, mathText=False))\n",
    "cb.ax.tick_params(axis='y', direction='in')\n",
    "ax.plot(max_rate[:-1, 0], max_rate[:-1, 1], linewidth = 2, color='b')\n",
    "ax.set_xlim(0.1, 0.98)\n",
    "ax.set_xlabel(r'$\\mu$')\n",
    "ax.set_ylabel(r'$\\rho_0$')\n",
    "ax.set_title(r'$\\rho_t = %.2f$'%target_size)\n",
    "plt.show()\n",
    "fig.savefig('LFR_phase_target_%.2f.pdf'%target_size, bbox_inches='tight', pad_inches=0.02)"
   ]
  },
  {
   "cell_type": "markdown",
   "metadata": {},
   "source": [
    "### Optimal modularity vs. Target size for different seed sizes"
   ]
  },
  {
   "cell_type": "code",
   "execution_count": 13,
   "metadata": {},
   "outputs": [],
   "source": [
    "rho0s = [0.1, 0.15, 0.2, 0.25, 0.3]\n",
    "rho0_dict = defaultdict(list)\n",
    "\n",
    "for rho in rho0s:\n",
    "    targets = np.arange(rho+0.05, 1, 0.05)\n",
    "    targets = np.append(targets, 0.99)\n",
    "    for target_size in targets:\n",
    "        max_avg, max_u = 0, -1\n",
    "        for u in us:\n",
    "            rates = []\n",
    "            sizes = []\n",
    "            for size, step, activation_per_step in sweeping_results[rho][u]:\n",
    "                sizes.append(size/num_nodes)\n",
    "                time_ss = get_time_to_target(activation_per_step, int(target_size * num_nodes))\n",
    "                if time_ss != 'impossible':\n",
    "                    rates.append((target_size-rho)/time_ss)\n",
    "            # if the avg final size is at least the target size, then we count it as possible to reach the target.\n",
    "            if np.mean(sizes) >= target_size:\n",
    "                # under this condition, rates is impossible to be an empty list.\n",
    "                avg_rate = np.mean(rates)\n",
    "                if avg_rate > max_avg:\n",
    "                    max_avg = avg_rate\n",
    "                    max_u = u\n",
    "        if max_u != -1:\n",
    "            rho0_dict[rho].append([target_size, max_u])\n",
    "    rho0_dict[rho] = np.array(rho0_dict[rho])"
   ]
  },
  {
   "cell_type": "code",
   "execution_count": 18,
   "metadata": {},
   "outputs": [
    {
     "data": {
      "image/png": "[encoded data removed]",
      "text/plain": [
       "<Figure size 288x230.4 with 1 Axes>"
      ]
     },
     "metadata": {},
     "output_type": "display_data"
    }
   ],
   "source": [
    "fig, ax = plt.subplots(figsize = (4, 3.2))\n",
    "\n",
    "markers = ['-gs', '-yx', '-bv', '-ro', '-k^']\n",
    "\n",
    "for rho, mk in zip(rho0s, markers):\n",
    "    target_max_u = rho0_dict[rho]\n",
    "    ax.plot(target_max_u[:, 0], target_max_u[:, 1], mk, markersize = 2, linewidth = 1.5, label=r'$\\rho_0 = %.2f$'%rho)\n",
    "legend = ax.legend(loc=[0.02, 0.35], numpoints=2, labelspacing = 0.1, shadow=False, frameon = False)\n",
    "ax.set_xlabel(r'target cascade size $\\rho_t$')\n",
    "ax.set_ylabel(r'optimal $\\mu$ for diffusion speed')\n",
    "# ax.tick_params(axis='y', labelcolor = col1, direction='out')\n",
    "ax.set_xlim([-0.1, 1.02])\n",
    "ax.set_ylim([-0.1, 1.1])\n",
    "ax.set_title('LFR')\n",
    "\n",
    "plt.show()\n",
    "fig.savefig('LFR_opt_mu_vs_target.pdf', bbox_inches='tight', pad_inches=0.02)"
   ]
  },
  {
   "cell_type": "code",
   "execution_count": null,
   "metadata": {},
   "outputs": [],
   "source": []
  }
 ],
 "metadata": {
  "kernelspec": {
   "display_name": "Python 3",
   "language": "python",
   "name": "python3"
  },
  "language_info": {
   "codemirror_mode": {
    "name": "ipython",
    "version": 3
   },
   "file_extension": ".py",
   "mimetype": "text/x-python",
   "name": "python",
   "nbconvert_exporter": "python",
   "pygments_lexer": "ipython3",
   "version": "3.6.7"
  }
 },
 "nbformat": 4,
 "nbformat_minor": 2
}
