{
 "cells": [
  {
   "cell_type": "code",
   "execution_count": 2,
   "metadata": {},
   "outputs": [],
   "source": [
    "import math\n",
    "import random\n",
    "import pickle\n",
    "import datetime\n",
    "import numpy as np\n",
    "import networkx as nx\n",
    "import matplotlib\n",
    "import matplotlib.pyplot as plt\n",
    "import matplotlib.ticker as ticker\n",
    "from collections import defaultdict\n",
    "from scipy.interpolate import griddata"
   ]
  },
  {
   "cell_type": "code",
   "execution_count": 3,
   "metadata": {},
   "outputs": [],
   "source": [
    "class OOMFormatter(matplotlib.ticker.ScalarFormatter):\n",
    "    def __init__(self, order=0, fformat=\"%1.0f\", offset=True, mathText=True):\n",
    "        self.oom = order\n",
    "        self.fformat = fformat\n",
    "        matplotlib.ticker.ScalarFormatter.__init__(self,useOffset=offset,useMathText=mathText)\n",
    "    def _set_orderOfMagnitude(self, nothing):\n",
    "        self.orderOfMagnitude = self.oom\n",
    "    def _set_format(self, vmin, vmax):\n",
    "        self.format = self.fformat\n",
    "        if self._useMathText:\n",
    "            self.format = '$%s$' % matplotlib.ticker._mathdefault(self.format)"
   ]
  },
  {
   "cell_type": "code",
   "execution_count": 5,
   "metadata": {},
   "outputs": [],
   "source": [
    "num_nodes = 100000\n",
    "avg_degree = 10\n",
    "num_edges = num_nodes*avg_degree/2\n",
    "num_community = 2\n",
    "thsh = 0.35\n",
    "num_runs = 100\n",
    "f = 0.01"
   ]
  },
  {
   "cell_type": "code",
   "execution_count": 6,
   "metadata": {},
   "outputs": [],
   "source": [
    "rhos = np.arange(0, 0.51, 0.01)\n",
    "us = np.arange(0, 0.51, 0.01)"
   ]
  },
  {
   "cell_type": "code",
   "execution_count": 5,
   "metadata": {},
   "outputs": [],
   "source": [
    "sweeping_results = {}"
   ]
  },
  {
   "cell_type": "markdown",
   "metadata": {},
   "source": [
    "Please go through `figures_1_2_3.ipynb` first and know how to produce Fig. 3."
   ]
  },
  {
   "cell_type": "code",
   "execution_count": 7,
   "metadata": {},
   "outputs": [],
   "source": [
    "Data_Root = '/l/nx/data/haopeng/Diffusion/SBM/per_step_data/'"
   ]
  },
  {
   "cell_type": "code",
   "execution_count": 56,
   "metadata": {},
   "outputs": [],
   "source": [
    "# for i in range(51):\n",
    "#     rho = rhos[i]\n",
    "#     with open(Data_Root+'fix_thsh/phase_simu_nodes_%sk_z_%s_thsh_%s_f_%s_%s.pickle'%(num_nodes//1000, avg_degree, thsh, f, i), 'rb') as file:\n",
    "#         tem = pickle.load(file)\n",
    "#         sweeping_results[rho] = tem"
   ]
  },
  {
   "cell_type": "code",
   "execution_count": 57,
   "metadata": {},
   "outputs": [],
   "source": [
    "# with open(Data_Root+'phase_simu_nodes_%sk_z_%s_thsh_%s_f_%s.pickle'%(num_nodes//1000, avg_degree, thsh, f), 'wb') as file:\n",
    "#     pickle.dump(dict(sweeping_results), file)"
   ]
  },
  {
   "cell_type": "code",
   "execution_count": 8,
   "metadata": {
    "scrolled": true
   },
   "outputs": [],
   "source": [
    "with open(Data_Root+'phase_simu_nodes_%sk_z_%s_thsh_%s_f_%s.pickle'%(num_nodes//1000, avg_degree, thsh, f), 'rb') as file:\n",
    "    sweeping_results = pickle.load(file)"
   ]
  },
  {
   "cell_type": "code",
   "execution_count": 9,
   "metadata": {},
   "outputs": [],
   "source": [
    "def get_time_to_target(lists, target):\n",
    "    if target == num_nodes:\n",
    "        target = num_nodes * 0.99\n",
    "    lists = np.array(lists)\n",
    "    li = np.cumsum(lists, axis=0)[-1]\n",
    "    li = np.cumsum(li)\n",
    "    for i, tot in enumerate(li):\n",
    "        if tot >= target:\n",
    "            return i+1\n",
    "    else:\n",
    "        return 'impossible'"
   ]
  },
  {
   "cell_type": "code",
   "execution_count": 10,
   "metadata": {},
   "outputs": [],
   "source": [
    "x_range = np.arange(0, 0.51, 0.001)\n",
    "y_range = np.arange(0, 0.51, 0.001)\n",
    "X, Y = np.meshgrid(x_range, y_range)"
   ]
  },
  {
   "cell_type": "markdown",
   "metadata": {},
   "source": [
    "### Reach a target cascade size (phase diagram)"
   ]
  },
  {
   "cell_type": "code",
   "execution_count": 48,
   "metadata": {},
   "outputs": [],
   "source": [
    "# target_size = 0.20\n",
    "target_size = 0.35\n",
    "# target_size = 0.50"
   ]
  },
  {
   "cell_type": "code",
   "execution_count": 49,
   "metadata": {},
   "outputs": [],
   "source": [
    "points = []\n",
    "rates_fix_size = []\n",
    "max_rate = []\n",
    "\n",
    "for rho in rhos:\n",
    "    if rho < target_size:\n",
    "        tem_max = 0\n",
    "        max_u = 0\n",
    "        for u in us:\n",
    "            rates = []\n",
    "            for size, step, activation_per_step in sweeping_results[rho][u]:\n",
    "                time_ss = get_time_to_target(activation_per_step, int(target_size * num_nodes))\n",
    "                if time_ss != 'impossible':\n",
    "                    rates.append((target_size-rho)/time_ss)\n",
    "            # if cannot reaches target size out of 100 runs, then this (u, rho) point has no data in the phase diagram.\n",
    "            if len(rates) > 0:\n",
    "                avg_rate = np.mean(rates)\n",
    "                rates_fix_size.append(avg_rate)\n",
    "                if avg_rate > tem_max:\n",
    "                    max_u = u\n",
    "                    tem_max = avg_rate\n",
    "                points.append([u, rho])\n",
    "        if tem_max > 0:\n",
    "            max_rate.append([max_u, rho])\n",
    "max_rate = np.array(max_rate)\n",
    "Z_rate = griddata(points, rates_fix_size, (X, Y), method = 'cubic')"
   ]
  },
  {
   "cell_type": "code",
   "execution_count": 50,
   "metadata": {},
   "outputs": [
    {
     "data": {
      "text/plain": [
       "0.002499999999999998"
      ]
     },
     "execution_count": 50,
     "metadata": {},
     "output_type": "execute_result"
    }
   ],
   "source": [
    "max(rates_fix_size)"
   ]
  },
  {
   "cell_type": "code",
   "execution_count": 51,
   "metadata": {},
   "outputs": [
    {
     "data": {
      "image/png": "[encoded data removed]",
      "text/plain": [
       "<Figure size 216x162 with 2 Axes>"
      ]
     },
     "metadata": {},
     "output_type": "display_data"
    }
   ],
   "source": [
    "fig, ax = plt.subplots(figsize = (3, 2.25))\n",
    "levels = np.linspace(0.0, 37e-4, 20)\n",
    "ct = ax.contourf(X, Y, Z_rate, cmap = 'Blues', levels=levels)#, extend='min'\n",
    "cb = fig.colorbar(ct, ax=ax, fraction=0.05, pad=0.02, format=OOMFormatter(-4, mathText=False))\n",
    "cb.ax.tick_params(axis='y', direction='in')\n",
    "ax.plot(max_rate[:-1, 0], max_rate[:-1, 1], linewidth = 2, color='b')\n",
    "ax.set_xlabel(r'$\\mu$')\n",
    "ax.set_ylabel(r'$\\rho_0$')\n",
    "ax.set_xlim(0, 0.5)\n",
    "ax.set_title(r'$\\rho_t = %.2f$'%target_size)\n",
    "plt.show()\n",
    "fig.savefig('SBM_phase_target_%.2f.pdf'%target_size, bbox_inches='tight', pad_inches=0.02)"
   ]
  },
  {
   "cell_type": "code",
   "execution_count": 47,
   "metadata": {},
   "outputs": [
    {
     "data": {
      "image/png": "[encoded data removed]",
      "text/plain": [
       "<Figure size 216x162 with 2 Axes>"
      ]
     },
     "metadata": {},
     "output_type": "display_data"
    }
   ],
   "source": [
    "fig, ax = plt.subplots(figsize = (3, 2.25))\n",
    "levels = np.linspace(0.0, 37e-4, 20)\n",
    "ct = ax.contourf(X, Y, Z_rate, cmap = 'Blues', levels=levels)#, extend='min'\n",
    "cb = fig.colorbar(ct, ax=ax, fraction=0.05, pad=0.02, format=OOMFormatter(-4, mathText=False))\n",
    "cb.ax.tick_params(axis='y', direction='in')\n",
    "ax.plot(max_rate[:-1, 0], max_rate[:-1, 1], linewidth = 2, color='b')\n",
    "ax.set_xlabel(r'$\\mu$')\n",
    "ax.set_ylabel(r'$\\rho_0$')\n",
    "ax.set_xlim(0, 0.5)\n",
    "ax.set_title(r'$\\rho_t = %.2f$'%target_size)\n",
    "plt.show()\n",
    "fig.savefig('SBM_phase_target_%.2f.pdf'%target_size, bbox_inches='tight', pad_inches=0.02)"
   ]
  },
  {
   "cell_type": "markdown",
   "metadata": {},
   "source": [
    "A slice at rho = 0.1"
   ]
  },
  {
   "cell_type": "code",
   "execution_count": 19,
   "metadata": {},
   "outputs": [],
   "source": [
    "rho = 0.1\n",
    "\n",
    "# target_size = 0.25\n",
    "target_size = 0.50\n",
    "# target_size = 0.75\n",
    "# target_size = 0.99"
   ]
  },
  {
   "cell_type": "code",
   "execution_count": 20,
   "metadata": {},
   "outputs": [],
   "source": [
    "avg_rates, std_rates = [], []\n",
    "\n",
    "for u in us:\n",
    "    rates = []\n",
    "    for size, step, activation_per_step in sweeping_results[rho][u]:\n",
    "        time_ss = get_time_to_target(activation_per_step, int(target_size * num_nodes))\n",
    "        if time_ss != 'impossible':\n",
    "            rates.append((target_size-rho)/time_ss)\n",
    "        else:\n",
    "            rates.append(0)\n",
    "    avg_rates.append(np.mean(rates))\n",
    "    median = np.median(rates)\n",
    "    q75, q25 = np.percentile(rates, [75 ,25])\n",
    "    std_rates.append([median-q25, q75-median])"
   ]
  },
  {
   "cell_type": "code",
   "execution_count": 21,
   "metadata": {},
   "outputs": [
    {
     "data": {
      "image/png": "[encoded data removed]",
      "text/plain": [
       "<Figure size 252x201.6 with 1 Axes>"
      ]
     },
     "metadata": {},
     "output_type": "display_data"
    }
   ],
   "source": [
    "fig, ax = plt.subplots(figsize = (3.5, 2.8))\n",
    "\n",
    "col1 = '#0057e7'\n",
    "ax.errorbar(us, avg_rates, yerr=np.array(std_rates).T, color=col1, marker='o', linestyle='-', markersize = 2, linewidth = 1.5)\n",
    "ax.set_xlabel(r'$\\mu$')\n",
    "ax.set_ylabel('average diffusion speed', color=col1)\n",
    "ax.tick_params(axis='y', labelcolor = col1, direction='out')\n",
    "ax.axvspan(0.13, 0.24, color='green', alpha=0.2, linewidth=0)\n",
    "ax.axvline(0.17, color='k', linestyle='--', linewidth = 0.8)\n",
    "if avg_rates[-1] < 0.001:\n",
    "    ax.ticklabel_format(axis='y', style='sci', scilimits=(0,0))\n",
    "# ax.set_ylim([0, 1.05])\n",
    "ax.set_title(r'$\\rho_t = %.2f$'%target_size)\n",
    "\n",
    "plt.show()\n",
    "fig.savefig('speed_fix_size_%.2f.pdf'%target_size, bbox_inches='tight', pad_inches=0.02)"
   ]
  },
  {
   "cell_type": "markdown",
   "metadata": {},
   "source": [
    "### Optimal modularity vs. Target size for different seed sizes"
   ]
  },
  {
   "cell_type": "code",
   "execution_count": 13,
   "metadata": {},
   "outputs": [],
   "source": [
    "rho0s = [0.1, 0.15, 0.2, 0.25, 0.3]\n",
    "rho0_dict = defaultdict(list)\n",
    "\n",
    "for rho in rho0s:\n",
    "    targets = np.arange(rho+0.05, 1, 0.05)\n",
    "    targets = np.append(targets, 0.99)\n",
    "    for target_size in targets:\n",
    "        max_avg, max_u = 0, -1\n",
    "        for u in us:\n",
    "            rates = []\n",
    "            sizes = []\n",
    "            for size, step, activation_per_step in sweeping_results[rho][u]:\n",
    "                sizes.append(size/num_nodes)\n",
    "                time_ss = get_time_to_target(activation_per_step, int(target_size * num_nodes))\n",
    "                if time_ss != 'impossible':\n",
    "                    rates.append((target_size-rho)/time_ss)\n",
    "            # if the avg final size is at least the target size, then we count it as possible to reach the target.\n",
    "            if np.mean(sizes) >= target_size:\n",
    "                # under this condition, rates is impossible to be an empty list.\n",
    "                avg_rate = np.mean(rates)\n",
    "                if avg_rate > max_avg:\n",
    "                    max_avg = avg_rate\n",
    "                    max_u = u\n",
    "        if max_u != -1:\n",
    "            rho0_dict[rho].append([target_size, max_u])\n",
    "    rho0_dict[rho] = np.array(rho0_dict[rho])"
   ]
  },
  {
   "cell_type": "code",
   "execution_count": 12,
   "metadata": {},
   "outputs": [
    {
     "data": {
      "image/png": "[encoded data removed]",
      "text/plain": [
       "<Figure size 288x230.4 with 1 Axes>"
      ]
     },
     "metadata": {},
     "output_type": "display_data"
    }
   ],
   "source": [
    "# fig, ax = plt.subplots(figsize = (3.5, 2.8))\n",
    "fig, ax = plt.subplots(figsize = (4, 3.2))\n",
    "\n",
    "# markers = ['-gs', '-bv', '-ro']\n",
    "markers = ['-gs', '-yx', '-bv', '-ro', '-k^']\n",
    "\n",
    "for rho, mk in zip(rho0s, markers):\n",
    "    target_max_u = rho0_dict[rho]\n",
    "    ax.plot(target_max_u[:, 0], target_max_u[:, 1], mk, markersize = 2, linewidth = 1.5, label=r'$\\rho_0 = %.2f$'%rho)\n",
    "legend = ax.legend(loc=[0.02, 0.5], numpoints=2, labelspacing = 0.1, shadow=False, frameon = False)\n",
    "ax.set_xlabel(r'target cascade size $\\Omega$')\n",
    "ax.set_ylabel(r'optimal $\\mu$ for diffusion speed')\n",
    "# ax.tick_params(axis='y', labelcolor = col1, direction='out')\n",
    "ax.set_xlim([-0.1, 1.02])\n",
    "ax.set_ylim([-0.05, 0.55])\n",
    "ax.set_title('SBM')\n",
    "\n",
    "plt.show()\n",
    "fig.savefig('SBM_opt_mu_vs_target.pdf', bbox_inches='tight', pad_inches=0.02)"
   ]
  },
  {
   "cell_type": "code",
   "execution_count": null,
   "metadata": {},
   "outputs": [],
   "source": []
  }
 ],
 "metadata": {
  "kernelspec": {
   "display_name": "Python 3",
   "language": "python",
   "name": "python3"
  },
  "language_info": {
   "codemirror_mode": {
    "name": "ipython",
    "version": 3
   },
   "file_extension": ".py",
   "mimetype": "text/x-python",
   "name": "python",
   "nbconvert_exporter": "python",
   "pygments_lexer": "ipython3",
   "version": "3.6.7"
  }
 },
 "nbformat": 4,
 "nbformat_minor": 2
}
