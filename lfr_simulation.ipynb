{
 "cells": [
  {
   "cell_type": "code",
   "execution_count": 1,
   "metadata": {},
   "outputs": [],
   "source": [
    "import math\n",
    "import random\n",
    "import pickle\n",
    "import datetime\n",
    "import community\n",
    "import numpy as np\n",
    "import networkx as nx\n",
    "import matplotlib\n",
    "import matplotlib.pyplot as plt\n",
    "import matplotlib.ticker as ticker\n",
    "from collections import defaultdict\n",
    "from scipy.interpolate import griddata\n",
    "from networkx.algorithms.community import LFR_benchmark_graph"
   ]
  },
  {
   "cell_type": "code",
   "execution_count": 3,
   "metadata": {},
   "outputs": [],
   "source": [
    "Data_Root = '/data/haopeng/Diffusion/LFR/'\n",
    "net_name = 'LFR'"
   ]
  },
  {
   "cell_type": "code",
   "execution_count": 4,
   "metadata": {},
   "outputs": [],
   "source": [
    "num_nodes = 25000\n",
    "avg_degree = 10\n",
    "thsh = 0.3\n",
    "num_runs = 500\n",
    "f = 0.01"
   ]
  },
  {
   "cell_type": "code",
   "execution_count": 5,
   "metadata": {},
   "outputs": [],
   "source": [
    "tau1 = 2.5\n",
    "tau2 = 1.5\n",
    "max_degree = 30"
   ]
  },
  {
   "cell_type": "code",
   "execution_count": 6,
   "metadata": {},
   "outputs": [],
   "source": [
    "rhos = np.arange(0, 0.51, 0.01)\n",
    "us = np.arange(0.1, 1.00, 0.02)"
   ]
  },
  {
   "cell_type": "markdown",
   "metadata": {},
   "source": [
    "First run the script in the folder `lfr_hpc` on hpc:\n",
    "- run this command: `sbatch lfr_hpc.slurm`"
   ]
  },
  {
   "cell_type": "code",
   "execution_count": 7,
   "metadata": {},
   "outputs": [],
   "source": [
    "results = defaultdict()"
   ]
  },
  {
   "cell_type": "code",
   "execution_count": null,
   "metadata": {},
   "outputs": [],
   "source": [
    "# for i in range(51):\n",
    "#     rho = rhos[i]\n",
    "#     with open(Data_Root+'per_step_data/phase_simu_nodes_%sk_z_%s_thsh_%s_f_%s_%s.pickle'%(num_nodes//1000, avg_degree, thsh, f, i), 'rb') as file:\n",
    "#         tem = pickle.load(file)\n",
    "#         results[rho] = tem"
   ]
  },
  {
   "cell_type": "code",
   "execution_count": null,
   "metadata": {},
   "outputs": [],
   "source": [
    "# with open(Data_Root+'per_step_data/phase_simu_nodes_%sk_z_%s_thsh_%s_f_%s.pickle'%(num_nodes//1000, avg_degree, thsh, f), 'wb') as file:\n",
    "#     pickle.dump(dict(results), file)"
   ]
  },
  {
   "cell_type": "code",
   "execution_count": 8,
   "metadata": {
    "scrolled": true
   },
   "outputs": [],
   "source": [
    "with open(Data_Root+'per_step_data/phase_simu_nodes_%sk_z_%s_thsh_%s_f_%s.pickle'%(num_nodes//1000, avg_degree, thsh, f), 'rb') as file:\n",
    "    results = pickle.load(file)"
   ]
  },
  {
   "cell_type": "code",
   "execution_count": 9,
   "metadata": {},
   "outputs": [],
   "source": [
    "sweeping_results = defaultdict(dict)\n",
    "\n",
    "for rho in rhos:\n",
    "    num_seeds = int(rho*num_nodes)\n",
    "    for u in us:\n",
    "        tem_results = []\n",
    "        for size, step, activation_per_step in results[rho][u]:\n",
    "            tem_results.append((size, step))\n",
    "        sizes = [size/num_nodes for (size, step) in tem_results]\n",
    "        rates = [(size-num_seeds)/(step*num_nodes) if step > 0 else 0 for (size, step) in tem_results]\n",
    "        sweeping_results[rho][u] = (sizes, rates)"
   ]
  },
  {
   "cell_type": "code",
   "execution_count": 10,
   "metadata": {},
   "outputs": [],
   "source": [
    "del results"
   ]
  },
  {
   "cell_type": "markdown",
   "metadata": {},
   "source": [
    "### Calculate normalized modularity"
   ]
  },
  {
   "cell_type": "code",
   "execution_count": 89,
   "metadata": {},
   "outputs": [],
   "source": [
    "def attribute_assortativity_coefficient(G, partition, directed=False):\n",
    "    num_community = len(set(partition.values()))\n",
    "    mixing_matrix = np.zeros(shape = (num_community, num_community))              \n",
    "    for s, t in G.edges():\n",
    "        mixing_matrix[partition[s], partition[t]] += 1\n",
    "        # if undirect, the order (s, t) gives by G.edges() is misleading. So we double count every edge.\n",
    "        if not directed:\n",
    "            mixing_matrix[partition[t], partition[s]] += 1\n",
    "    mixing_matrix /= np.sum(mixing_matrix)\n",
    "    square_sum = np.sum(np.linalg.matrix_power(mixing_matrix, 2))\n",
    "    tra = np.trace(mixing_matrix)\n",
    "    r = (tra - square_sum)/(1-square_sum)\n",
    "    return r"
   ]
  },
  {
   "cell_type": "code",
   "execution_count": 118,
   "metadata": {},
   "outputs": [],
   "source": [
    "u_to_Q = {}\n",
    "\n",
    "for u in us:\n",
    "    G = LFR_benchmark_graph(num_nodes, tau1, tau2, u, average_degree=avg_degree, max_degree=max_degree, seed=10)\n",
    "    communities = {frozenset(G.nodes[v]['community']) for v in G}\n",
    "    part = {}\n",
    "    for i, C in enumerate(communities):\n",
    "        for node in C:\n",
    "            part[node] = i\n",
    "    Q_norm = attribute_assortativity_coefficient(G, part)\n",
    "    u_to_Q[u] = Q_norm"
   ]
  },
  {
   "cell_type": "markdown",
   "metadata": {},
   "source": [
    "### Phase diagram"
   ]
  },
  {
   "cell_type": "code",
   "execution_count": 11,
   "metadata": {},
   "outputs": [],
   "source": [
    "class OOMFormatter(matplotlib.ticker.ScalarFormatter):\n",
    "    def __init__(self, order=0, fformat=\"%1.0f\", offset=True, mathText=True):\n",
    "        self.oom = order\n",
    "        self.fformat = fformat\n",
    "        matplotlib.ticker.ScalarFormatter.__init__(self,useOffset=offset,useMathText=mathText)\n",
    "    def _set_orderOfMagnitude(self, nothing):\n",
    "        self.orderOfMagnitude = self.oom\n",
    "    def _set_format(self, vmin, vmax):\n",
    "        self.format = self.fformat\n",
    "        if self._useMathText:\n",
    "            self.format = '$%s$' % matplotlib.ticker._mathdefault(self.format)"
   ]
  },
  {
   "cell_type": "code",
   "execution_count": 12,
   "metadata": {},
   "outputs": [],
   "source": [
    "# x_range = np.arange(0.1, 0.51, 0.001)\n",
    "x_range = np.arange(0, 1.01, 0.001)\n",
    "y_range = np.arange(0, 0.51, 0.001)\n",
    "X, Y = np.meshgrid(x_range, y_range)"
   ]
  },
  {
   "cell_type": "code",
   "execution_count": 13,
   "metadata": {},
   "outputs": [],
   "source": [
    "points = []\n",
    "values_size = []\n",
    "values_rate = []\n",
    "lower_boundary = []\n",
    "upper_boundary = []\n",
    "max_rate = []\n",
    "            \n",
    "for rho in rhos:\n",
    "    lower_u, upper_u = 0, 0\n",
    "    for u in us:\n",
    "        points.append([u, rho])\n",
    "        avg_size = np.mean(sweeping_results[rho][u][0])\n",
    "        values_size.append(avg_size)\n",
    "        avg_rate = np.mean(sweeping_results[rho][u][1])\n",
    "        values_rate.append(avg_rate)\n",
    "        \n",
    "        if avg_size >= 0.99:\n",
    "            if lower_u == 0:\n",
    "                lower_u = u\n",
    "            upper_u = u\n",
    "    if lower_u < upper_u:\n",
    "        lower_boundary.append([lower_u, rho])\n",
    "        upper_boundary.append([upper_u, rho])\n",
    "        optimal_u = 0\n",
    "        min_rate = np.mean(sweeping_results[rho][lower_u][1])\n",
    "        for u in us:\n",
    "            if u >= lower_u and u <= upper_u:\n",
    "                avg_rate = np.mean(sweeping_results[rho][u][1])\n",
    "                if avg_rate >= min_rate:\n",
    "                    optimal_u = u\n",
    "                    min_rate = avg_rate\n",
    "        max_rate.append([optimal_u, rho])\n",
    "\n",
    "lower_boundary = np.array(lower_boundary)\n",
    "upper_boundary = np.array(upper_boundary)\n",
    "max_rate = np.array(max_rate)\n",
    "\n",
    "Z_size = griddata(points, values_size, (X, Y), method = 'cubic')\n",
    "Z_rate = griddata(points, values_rate, (X, Y), method = 'cubic')"
   ]
  },
  {
   "cell_type": "code",
   "execution_count": 13,
   "metadata": {},
   "outputs": [
    {
     "data": {
      "image/png": "[encoded data removed]",
      "text/plain": [
       "<Figure size 252x201.6 with 3 Axes>"
      ]
     },
     "metadata": {},
     "output_type": "display_data"
    }
   ],
   "source": [
    "fig, ax = plt.subplots(figsize = (3.5, 2.8))\n",
    "levels = np.linspace(0.0, 14e-4, 12)\n",
    "ct = ax.contourf(X, Y, Z_rate, cmap = 'Blues', levels=levels)\n",
    "cb = fig.colorbar(ct, ax=ax, fraction=0.05, pad=0.02, format=OOMFormatter(-4, mathText=False))\n",
    "cb.ax.tick_params(axis='y', direction='in')\n",
    "\n",
    "ax.plot(lower_boundary[:, 0], lower_boundary[:, 1], linewidth = 2, color='r')\n",
    "ax.plot(upper_boundary[:, 0], upper_boundary[:, 1], linewidth = 2, color='r')\n",
    "ax.plot(max_rate[:, 0], max_rate[:, 1], linewidth = 2, color='b')\n",
    "# ax.axhline(y=0.10, linewidth=1, linestyle='--', color='k')\n",
    "ax.set_xlabel(r'$u$')\n",
    "ax.set_ylabel(r'$\\rho_0$')\n",
    "ax.set_xlim(0.1, 0.98)\n",
    "ax.set_ylim(0, 0.5)\n",
    "ax.set_title('LFR Network', pad=35)\n",
    "\n",
    "ax2 = ax.twiny()\n",
    "ax2.set_xlim(ax.get_xlim())\n",
    "xticks = [0.2, 0.4, 0.6000000000000001, 0.8000000000000002]\n",
    "ax2.set_xticks(xticks)\n",
    "ax2.set_xticklabels([\"%.2f\"%u_to_Q[u] for u in xticks])\n",
    "ax2.set_xlabel(r\"$Q_{norm}$\")\n",
    "\n",
    "plt.show()\n",
    "fig.savefig('LFR_phase.pdf', bbox_inches='tight', pad_inches=0.02)"
   ]
  },
  {
   "cell_type": "code",
   "execution_count": null,
   "metadata": {},
   "outputs": [],
   "source": []
  }
 ],
 "metadata": {
  "kernelspec": {
   "display_name": "Python 3",
   "language": "python",
   "name": "python3"
  },
  "language_info": {
   "codemirror_mode": {
    "name": "ipython",
    "version": 3
   },
   "file_extension": ".py",
   "mimetype": "text/x-python",
   "name": "python",
   "nbconvert_exporter": "python",
   "pygments_lexer": "ipython3",
   "version": "3.6.7"
  }
 },
 "nbformat": 4,
 "nbformat_minor": 2
}
