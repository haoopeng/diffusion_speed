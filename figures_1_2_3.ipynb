{
 "cells": [
  {
   "cell_type": "code",
   "execution_count": 1,
   "metadata": {},
   "outputs": [],
   "source": [
    "import sys\n",
    "import math\n",
    "import numpy as np\n",
    "import pickle\n",
    "import matplotlib\n",
    "import matplotlib.pyplot as plt\n",
    "import matplotlib.ticker as ticker\n",
    "from collections import defaultdict\n",
    "from scipy.interpolate import griddata"
   ]
  },
  {
   "cell_type": "code",
   "execution_count": 2,
   "metadata": {},
   "outputs": [],
   "source": [
    "CIs = {'90': 1.645, '95': 1.96, '99': 2.576}"
   ]
  },
  {
   "cell_type": "code",
   "execution_count": 3,
   "metadata": {},
   "outputs": [],
   "source": [
    "Data_Root = '/l/nx/data/haopeng/Diffusion/SBM/'"
   ]
  },
  {
   "cell_type": "code",
   "execution_count": 4,
   "metadata": {},
   "outputs": [],
   "source": [
    "num_nodes = 100000\n",
    "avg_degree = 10\n",
    "num_edges = num_nodes*avg_degree/2\n",
    "num_community = 2\n",
    "thsh = 0.35\n",
    "rho = 0.10\n",
    "num_seeds = int(rho*num_nodes)\n",
    "f = 0.01 #0.001, 1.0"
   ]
  },
  {
   "cell_type": "code",
   "execution_count": 5,
   "metadata": {},
   "outputs": [],
   "source": [
    "# see `sbm_analytical.ipynb`\n",
    "\n",
    "with open(Data_Root+'analy_nodes_%sk_z_%s_thsh_%s_rho0_%s_f_%s.pickle'%(num_nodes//1000, avg_degree, thsh, rho, f), 'rb') as file:\n",
    "    results_analy = pickle.load(file)"
   ]
  },
  {
   "cell_type": "code",
   "execution_count": 6,
   "metadata": {},
   "outputs": [],
   "source": [
    "# see `sbm_simulation.ipynb`\n",
    "\n",
    "with open(Data_Root+'simu_nodes_%sk_z_%s_thsh_%s_rho0_%s_f_%s.pickle'%(num_nodes//1000, avg_degree, thsh, rho, f), 'rb') as file:\n",
    "    results = pickle.load(file)"
   ]
  },
  {
   "cell_type": "code",
   "execution_count": 7,
   "metadata": {},
   "outputs": [],
   "source": [
    "num_runs = len(results[0])"
   ]
  },
  {
   "cell_type": "code",
   "execution_count": 8,
   "metadata": {},
   "outputs": [
    {
     "data": {
      "text/plain": [
       "100"
      ]
     },
     "execution_count": 8,
     "metadata": {},
     "output_type": "execute_result"
    }
   ],
   "source": [
    "num_runs"
   ]
  },
  {
   "cell_type": "code",
   "execution_count": 9,
   "metadata": {},
   "outputs": [],
   "source": [
    "us = np.arange(0, 0.51, 0.01)"
   ]
  },
  {
   "cell_type": "markdown",
   "metadata": {},
   "source": [
    "## Fig. 1"
   ]
  },
  {
   "cell_type": "code",
   "execution_count": 10,
   "metadata": {},
   "outputs": [],
   "source": [
    "avg_rates, std_rates = [], []\n",
    "avg_sizes, std_sizes = [], []\n",
    "\n",
    "for u in us:\n",
    "    speeds = [(size-num_seeds)/(num_nodes*step) for (size, step, activation_per_step) in results[u]]\n",
    "    avg_rates.append(np.mean(speeds))\n",
    "    median = np.median(speeds)\n",
    "    q75, q25 = np.percentile(speeds, [75 ,25])\n",
    "    # iqr = q75 - q25\n",
    "    std_rates.append([median-q25, q75-median])\n",
    "    sizes_ = [size/num_nodes for (size, step, activation_per_step) in results[u]]\n",
    "    avg_sizes.append(np.mean(sizes_))\n",
    "    median = np.median(sizes_)\n",
    "    q75, q25 = np.percentile(sizes_, [75 ,25])\n",
    "    std_sizes.append([median-q25, q75-median])"
   ]
  },
  {
   "cell_type": "code",
   "execution_count": 11,
   "metadata": {},
   "outputs": [],
   "source": [
    "# determine green region based on analytical results\n",
    "\n",
    "rates = []\n",
    "sizes = []\n",
    "\n",
    "for u in us:\n",
    "    step_size = results_analy[u][0]\n",
    "    total_step = len(step_size)-1\n",
    "    final_size = step_size[total_step][0]\n",
    "    sizes.append(final_size)\n",
    "    avg_rate = (final_size - step_size[0][0]) / total_step\n",
    "    rates.append(avg_rate)"
   ]
  },
  {
   "cell_type": "code",
   "execution_count": 12,
   "metadata": {},
   "outputs": [],
   "source": [
    "lower_u, upper_u = 'none', 'none'\n",
    "\n",
    "for u, size in zip(us, sizes):\n",
    "    if size >= 0.99:\n",
    "        if lower_u == 'none':\n",
    "            lower_u = u\n",
    "        upper_u = u\n",
    "\n",
    "optimal_u = 0\n",
    "min_rate = min(rates)\n",
    "for u, rate in zip(us, rates):\n",
    "    if u >= lower_u and u <= upper_u:\n",
    "        if rate > min_rate:\n",
    "            optimal_u = u\n",
    "            min_rate = rate"
   ]
  },
  {
   "cell_type": "code",
   "execution_count": 13,
   "metadata": {},
   "outputs": [
    {
     "data": {
      "image/png": "[encoded data removed]",
      "text/plain": [
       "<Figure size 288x216 with 2 Axes>"
      ]
     },
     "metadata": {},
     "output_type": "display_data"
    }
   ],
   "source": [
    "fig, ax = plt.subplots(figsize = (4, 3))\n",
    "\n",
    "col1 = '#0057e7'\n",
    "ax.errorbar(us, avg_rates, yerr=np.array(std_rates).T, color=col1, fmt='H', fillstyle='none', markersize=2)\n",
    "ax.plot(us, rates, color=col1, marker='None', linestyle='-', linewidth = 2, alpha=0.8)\n",
    "ax.set_xlabel(r'$\\mu$')\n",
    "ax.set_ylabel(r'$\\bar{v}$', color=col1)\n",
    "ax.tick_params(axis='y', labelcolor = col1, direction='in')\n",
    "ax.axvspan(lower_u, upper_u, color='green', alpha=0.2, linewidth=0)\n",
    "ax.axvline(optimal_u, color='k', linestyle='--', linewidth = 0.8)\n",
    "ax.ticklabel_format(axis='y', style='sci', scilimits=(0,0))\n",
    "ax.set_ylim([0, 6e-4])\n",
    "\n",
    "col2 = '#d62d20'\n",
    "ax2 = ax.twinx()\n",
    "ax2.errorbar(us, avg_sizes, yerr=np.array(std_sizes).T, color=col2, fmt='H', fillstyle='none', markersize=2)\n",
    "ax2.plot(us, sizes, color=col2, marker='None', linestyle='-', linewidth = 2, alpha=0.8)\n",
    "ax2.set_ylabel(r'$\\rho_{t_s}$', color=col2)\n",
    "ax2.tick_params(axis='y', labelcolor = col2, direction='in')\n",
    "\n",
    "plt.show()\n",
    "fig.savefig('figure_1.pdf', bbox_inches='tight', pad_inches=0.01)"
   ]
  },
  {
   "cell_type": "markdown",
   "metadata": {},
   "source": [
    "## Fig. 2"
   ]
  },
  {
   "cell_type": "code",
   "execution_count": 14,
   "metadata": {},
   "outputs": [],
   "source": [
    "cand_us = [lower_u, optimal_u, 0.21]"
   ]
  },
  {
   "cell_type": "code",
   "execution_count": 15,
   "metadata": {
    "scrolled": true
   },
   "outputs": [
    {
     "data": {
      "image/png": "[encoded data removed]",
      "text/plain": [
       "<Figure size 432x324 with 6 Axes>"
      ]
     },
     "metadata": {},
     "output_type": "display_data"
    }
   ],
   "source": [
    "fig, axes = plt.subplots(2, len(cand_us), sharey='row', sharex=True, figsize = (6, 4.5))\n",
    "\n",
    "colors = ['b', 'r']\n",
    "labels = [r'$C_1$', r'$C_2$']\n",
    "one_subs = ['a', 'b', 'c']\n",
    "two_subs = ['d', 'e', 'f']\n",
    "gap = 50\n",
    "\n",
    "# speed\n",
    "for i, u, sub in zip(range(len(cand_us)), cand_us, one_subs):\n",
    "    ax = axes[0, i]\n",
    "    max_step = 0\n",
    "    for size, step, _ in results[u]:\n",
    "        if step > max_step:\n",
    "            max_step = step\n",
    "    xs = np.arange(max_step)\n",
    "#     if len(xs) > 3000:\n",
    "#         gap = 120\n",
    "#     else:\n",
    "#         gap = 100\n",
    "    for j, col, label in zip(range(num_community), colors, labels):\n",
    "        mat = np.zeros((num_runs, max_step))\n",
    "        for m in range(num_runs):\n",
    "            activation_per_step = results[u][m][2][j]\n",
    "            for n in range(len(activation_per_step)):\n",
    "                mat[m, n] = activation_per_step[n]/(num_nodes*0.5)\n",
    "        avg_speed_step = np.mean(mat, axis=0)\n",
    "        ax.plot(xs[:-1:gap], avg_speed_step[1::gap], color=col, alpha=0.8, marker='H', fillstyle='none', markersize=2, linewidth=0)\n",
    "    ax.set_title(r'$\\mu={:3.2f}$'.format(u))\n",
    "    # ax.set_xticklabels([])\n",
    "    ax.tick_params(axis='x', direction='in')\n",
    "    ax.text(0.05, 0.95, sub, fontsize=12, ha='left', va='top', transform=ax.transAxes)\n",
    "\n",
    "for i, u in zip(range(len(cand_us)), cand_us):\n",
    "    ax = axes[0, i]\n",
    "    step_speed = results_analy[u][1]\n",
    "    xs = range(len(step_speed))\n",
    "    for j, col, label in zip(range(num_community), colors, labels):\n",
    "        speed_step = [step_speed[step][j+1] for step in xs]\n",
    "        ax.plot(xs[::1], speed_step[::1], label=label, color=col, alpha=0.8, marker='None', linestyle='-', linewidth = 2)\n",
    "        \n",
    "\n",
    "# size \n",
    "for i, u, sub in zip(range(len(cand_us)), cand_us, two_subs):\n",
    "    ax = axes[1, i]\n",
    "    max_step = 0\n",
    "    for size, step, _ in results[u]:\n",
    "        if step > max_step:\n",
    "            max_step = step\n",
    "    xs = np.arange(max_step)\n",
    "    for j, col, label in zip(range(num_community), colors, labels):\n",
    "        mat = np.ones((num_runs, max_step))\n",
    "        for m in range(num_runs):\n",
    "            activation_per_step = results[u][m][2][j]\n",
    "            cum_seq = np.cumsum(activation_per_step)/(num_nodes*0.5)\n",
    "            for n in range(len(cum_seq)):\n",
    "                mat[m, n] = cum_seq[n]\n",
    "        avg_cum_seq = np.mean(mat, axis=0)\n",
    "        ax.plot(xs[::gap], avg_cum_seq[::gap], label=label, color=col, alpha=0.8, marker='H', fillstyle='none', markersize=2, linewidth=0)\n",
    "    ax.set_xlabel(r'$t$')\n",
    "    ax.set_xticks([1000, 2000, 3000, 4000, 5000])\n",
    "    ax.text(0.05, 0.95, sub, fontsize=12, ha='left', va='top', transform=ax.transAxes)\n",
    "    \n",
    "for i, u in zip(range(len(cand_us)), cand_us):\n",
    "    ax = axes[1, i]\n",
    "    step_size = results_analy[u][0]\n",
    "    xs = range(len(step_size))\n",
    "    for j, col, label in zip(range(num_community), colors, labels):\n",
    "        size_step = [step_size[step][j+1] for step in xs]\n",
    "        ax.plot(xs[::1], size_step[::1], label=label, color=col, alpha=0.8, marker='None', linestyle='-', linewidth = 2)\n",
    "        \n",
    "legend = axes[0, 0].legend(loc='lower left', bbox_to_anchor=(0.15, 0.65), labelspacing=0.2, frameon=True, numpoints=2, markerscale=1)\n",
    "axes[0, 0].set_ylabel(r'$v^{(i)}_t$')\n",
    "axes[0, 0].ticklabel_format(axis='y', style='sci', scilimits=(0,0))\n",
    "axes[1, 0].set_ylabel(r'$\\rho^{(i)}_t$')\n",
    "# axes[0].set_ylim([0, 5e-3])\n",
    "fig.subplots_adjust(wspace=0, hspace=0)\n",
    "plt.show()\n",
    "fig.savefig('figure_2.pdf', bbox_inches='tight', pad_inches=0)"
   ]
  },
  {
   "cell_type": "markdown",
   "metadata": {},
   "source": [
    "## Fig. 3"
   ]
  },
  {
   "cell_type": "markdown",
   "metadata": {},
   "source": [
    "First run the following scripts on hpc:\n",
    "1. `sbm_fix_thsh_hpc.py` (records the per time step data for each run, which will be used in plotting optimal mu for different cascade sizes later).\n",
    "2. `sbm_fix_rho0_hpc.py` (only records the average speed and the final size for each run)."
   ]
  },
  {
   "cell_type": "code",
   "execution_count": 20,
   "metadata": {},
   "outputs": [],
   "source": [
    "class OOMFormatter(matplotlib.ticker.ScalarFormatter):\n",
    "    def __init__(self, order=0, fformat=\"%1.0f\", offset=True, mathText=True):\n",
    "        self.oom = order\n",
    "        self.fformat = fformat\n",
    "        matplotlib.ticker.ScalarFormatter.__init__(self,useOffset=offset,useMathText=mathText)\n",
    "    def _set_orderOfMagnitude(self, nothing):\n",
    "        self.orderOfMagnitude = self.oom\n",
    "    def _set_format(self, vmin, vmax):\n",
    "        self.format = self.fformat\n",
    "        if self._useMathText:\n",
    "            self.format = '$%s$' % matplotlib.ticker._mathdefault(self.format)"
   ]
  },
  {
   "cell_type": "code",
   "execution_count": 21,
   "metadata": {},
   "outputs": [],
   "source": [
    "rhos = np.arange(0, 0.51, 0.01)\n",
    "thshs = np.arange(0, 0.51, 0.01)\n",
    "us = np.arange(0, 0.51, 0.01)"
   ]
  },
  {
   "cell_type": "code",
   "execution_count": 22,
   "metadata": {},
   "outputs": [
    {
     "data": {
      "image/png": "[encoded data removed]",
      "text/plain": [
       "<Figure size 540x201.6 with 4 Axes>"
      ]
     },
     "metadata": {},
     "output_type": "display_data"
    }
   ],
   "source": [
    "fig, axes = plt.subplots(nrows=1, ncols=2, sharex=True, figsize = (7.5, 2.8))\n",
    "\n",
    "num_nodes = 100000\n",
    "avg_degree = 10\n",
    "num_edges = num_nodes*avg_degree/2\n",
    "num_community = 2\n",
    "thsh = 0.35\n",
    "num_runs = 100\n",
    "f = 0.01\n",
    "\n",
    "# load data\n",
    "with open(Data_Root+'per_step_data/phase_simu_nodes_%sk_z_%s_thsh_%s_f_%s.pickle'%(num_nodes//1000, avg_degree, thsh, f), 'rb') as file:\n",
    "    results = pickle.load(file)\n",
    "    \n",
    "sweeping_results = defaultdict(dict)\n",
    "\n",
    "for rho in rhos:\n",
    "    num_seeds = int(rho*num_nodes)\n",
    "    for u in us:\n",
    "        tem_results = []\n",
    "        for size, step, activation_per_step in results[rho][u]:\n",
    "            tem_results.append((size, step))\n",
    "        sizes = [size/num_nodes for (size, step) in tem_results]\n",
    "        rates = [(size-num_seeds)/(step*num_nodes) if step > 0 else 0 for (size, step) in tem_results]\n",
    "        sweeping_results[rho][u] = (sizes, rates)\n",
    "        \n",
    "\n",
    "x_range = np.arange(0, 0.51, 0.001)\n",
    "y_range = np.arange(0, 0.51, 0.001)\n",
    "X, Y = np.meshgrid(x_range, y_range)\n",
    "\n",
    "points = []\n",
    "values_size = []\n",
    "values_rate = []\n",
    "lower_boundary = []\n",
    "upper_boundary = []\n",
    "max_rate = []\n",
    "            \n",
    "for rho in rhos:\n",
    "    lower_u, upper_u = 'none', 'none'\n",
    "    for u in us:\n",
    "        points.append([u, rho])\n",
    "        avg_size = np.mean(sweeping_results[rho][u][0])\n",
    "        values_size.append(avg_size)\n",
    "        avg_rate = np.mean(sweeping_results[rho][u][1])\n",
    "        values_rate.append(avg_rate)\n",
    "        \n",
    "        if avg_size >= 0.99:\n",
    "            if lower_u == 'none':\n",
    "                lower_u = u\n",
    "            upper_u = u\n",
    "    if lower_u < upper_u:\n",
    "        lower_boundary.append([lower_u, rho])\n",
    "        upper_boundary.append([upper_u, rho])\n",
    "        optimal_u = 0\n",
    "        min_rate = np.mean(sweeping_results[rho][lower_u][1])\n",
    "        for u in us:\n",
    "            if u >= lower_u and u <= upper_u:\n",
    "                avg_rate = np.mean(sweeping_results[rho][u][1])\n",
    "                if avg_rate >= min_rate:\n",
    "                    optimal_u = u\n",
    "                    min_rate = avg_rate\n",
    "        max_rate.append([optimal_u, rho])\n",
    "\n",
    "lower_boundary = np.array(lower_boundary)\n",
    "upper_boundary = np.array(upper_boundary)\n",
    "max_rate = np.array(max_rate)\n",
    "\n",
    "Z_size = griddata(points, values_size, (X, Y), method = 'cubic')\n",
    "Z_rate = griddata(points, values_rate, (X, Y), method = 'cubic')\n",
    "\n",
    "ax = axes[0]\n",
    "levels = np.linspace(0.0, 11e-4, 12)\n",
    "ct = ax.contourf(X, Y, Z_rate, cmap = 'Blues', levels=levels)#, extend='min'\n",
    "cb = fig.colorbar(ct, ax=ax, fraction=0.05, pad=0.02, format=OOMFormatter(-4, mathText=True))\n",
    "cb.ax.tick_params(axis='y', direction='in')\n",
    "\n",
    "ax.plot(lower_boundary[:, 0], lower_boundary[:, 1], linewidth = 2, color='r')\n",
    "ax.plot(upper_boundary[:, 0], upper_boundary[:, 1], linewidth = 2, color='r')\n",
    "ax.plot(max_rate[:, 0], max_rate[:, 1], linewidth = 2, color='b')\n",
    "ax.axhline(y=0.10, linewidth=1, linestyle='--', color='k')\n",
    "ax.text(0.05, 0.95, 'a', fontsize=12, ha='left', va='top', transform=ax.transAxes)\n",
    "ax.set_xlabel(r'$\\mu$')\n",
    "ax.set_ylabel(r'$\\rho_0$')\n",
    "ax.set_title(r'$\\theta=0.35$')\n",
    "ax.set_xlim(0, 0.5)\n",
    "ax.set_ylim(0, 0.5)\n",
    "\n",
    "# b\n",
    "\n",
    "num_nodes = 100000\n",
    "avg_degree = 10\n",
    "num_edges = num_nodes*avg_degree/2\n",
    "num_community = 2\n",
    "rho = 0.10\n",
    "num_seeds = int(rho*num_nodes)\n",
    "num_runs = 100\n",
    "f = 0.01\n",
    "\n",
    "# load data\n",
    "with open(Data_Root+'phase_simu_nodes_%sk_z_%s_rho0_%s_f_%s.pickle'%(num_nodes//1000, avg_degree, rho, f), 'rb') as file:\n",
    "    sweeping_results = pickle.load(file)\n",
    "        \n",
    "x_range = np.arange(0, 0.51, 0.001)\n",
    "y_range = np.arange(0, 0.51, 0.001)\n",
    "X, Y = np.meshgrid(x_range, y_range)\n",
    "\n",
    "points = []\n",
    "values_size = []\n",
    "values_rate = []\n",
    "lower_boundary = []\n",
    "upper_boundary = []\n",
    "max_rate = []\n",
    "            \n",
    "for thsh in thshs:\n",
    "    lower_u, upper_u = 'none', 'none'\n",
    "    for u in us:\n",
    "        points.append([u, thsh])\n",
    "        avg_size = np.mean(sweeping_results[thsh][u][0])\n",
    "        values_size.append(avg_size)\n",
    "        avg_rate = np.mean(sweeping_results[thsh][u][1])\n",
    "        values_rate.append(avg_rate)\n",
    "        \n",
    "        if avg_size >= 0.99:\n",
    "            if lower_u == 'none':\n",
    "                lower_u = u\n",
    "            upper_u = u\n",
    "    if lower_u < upper_u:\n",
    "        lower_boundary.append([lower_u, thsh])\n",
    "        upper_boundary.append([upper_u, thsh])\n",
    "        optimal_u = 0\n",
    "        min_rate = np.mean(sweeping_results[thsh][lower_u][1])\n",
    "        for u in us:\n",
    "            if u >= lower_u and u <= upper_u:\n",
    "                avg_rate = np.mean(sweeping_results[thsh][u][1])\n",
    "                if avg_rate >= min_rate:\n",
    "                    optimal_u = u\n",
    "                    min_rate = avg_rate\n",
    "        max_rate.append([optimal_u, thsh])\n",
    "\n",
    "lower_boundary = np.array(lower_boundary)\n",
    "upper_boundary = np.array(upper_boundary)\n",
    "max_rate = np.array(max_rate)\n",
    "\n",
    "Z_size = griddata(points, values_size, (X, Y), method = 'cubic')\n",
    "Z_rate = griddata(points, values_rate, (X, Y), method = 'cubic')\n",
    "\n",
    "ax = axes[1]\n",
    "levels = np.linspace(0.0, 14e-4, 15)\n",
    "ct = ax.contourf(X, Y, Z_rate, cmap = 'Blues', levels=levels)#, extend='min'\n",
    "cb = fig.colorbar(ct, ax=ax, fraction=0.05, pad=0.02, format=OOMFormatter(-4, mathText=True))\n",
    "cb.ax.tick_params(axis='y', direction='in')\n",
    "ax.plot(lower_boundary[:, 0], lower_boundary[:, 1], linewidth = 2, color='r')\n",
    "ax.plot(upper_boundary[:, 0], upper_boundary[:, 1], linewidth = 2, color='r')\n",
    "ax.plot(max_rate[:, 0], max_rate[:, 1], linewidth = 2, color='b')\n",
    "ax.axhline(y=0.35, linewidth=1, linestyle='--', color='k')\n",
    "ax.text(0.05, 0.95, 'b', fontsize=12, ha='left', va='top', transform=ax.transAxes)\n",
    "ax.set_xlabel(r'$\\mu$')\n",
    "ax.set_ylabel(r'$\\theta$')\n",
    "ax.set_title(r'$\\rho_0=0.1$')\n",
    "ax.set_xlim(0, 0.5)\n",
    "ax.set_ylim(0, 0.5)\n",
    "fig.subplots_adjust(wspace=0.3)\n",
    "plt.show()\n",
    "fig.savefig('figure_3.pdf', bbox_inches='tight', pad_inches=0.02)"
   ]
  },
  {
   "cell_type": "code",
   "execution_count": null,
   "metadata": {},
   "outputs": [],
   "source": []
  }
 ],
 "metadata": {
  "kernelspec": {
   "display_name": "Python 3",
   "language": "python",
   "name": "python3"
  },
  "language_info": {
   "codemirror_mode": {
    "name": "ipython",
    "version": 3
   },
   "file_extension": ".py",
   "mimetype": "text/x-python",
   "name": "python",
   "nbconvert_exporter": "python",
   "pygments_lexer": "ipython3",
   "version": "3.6.7"
  }
 },
 "nbformat": 4,
 "nbformat_minor": 2
}
