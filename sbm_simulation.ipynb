{
 "cells": [
  {
   "cell_type": "code",
   "execution_count": 1,
   "metadata": {},
   "outputs": [],
   "source": [
    "import math\n",
    "import random\n",
    "import pickle\n",
    "import datetime\n",
    "import numpy as np\n",
    "import networkx as nx\n",
    "import matplotlib\n",
    "import matplotlib.pyplot as plt\n",
    "import matplotlib.ticker as ticker\n",
    "from collections import defaultdict\n",
    "from scipy.interpolate import griddata"
   ]
  },
  {
   "cell_type": "code",
   "execution_count": 2,
   "metadata": {},
   "outputs": [],
   "source": [
    "CIs = {'90': 1.645, '95': 1.96, '99': 2.576}"
   ]
  },
  {
   "cell_type": "code",
   "execution_count": 3,
   "metadata": {},
   "outputs": [],
   "source": [
    "Data_Root = '/data/haopeng/Diffusion/SBM/'"
   ]
  },
  {
   "cell_type": "code",
   "execution_count": 4,
   "metadata": {},
   "outputs": [],
   "source": [
    "def comb(k):\n",
    "    '''compute row and column of a k-th element in a lower-triangle'''\n",
    "    row = int((math.sqrt(1+8*k)+1)/2)\n",
    "    column = int(k-(row-1)*row/2)\n",
    "    return [row, column]\n",
    "\n",
    "def sample_pairs(li, num):\n",
    "    ''' this func allows one to sample pairs without generating all possible pairs.\n",
    "    '''\n",
    "    total = int(len(li) * (len(li) - 1) / 2)\n",
    "    if total > num:\n",
    "        index = random.sample(range(total), num)\n",
    "    else:\n",
    "        print('This group is small, can not generate # of pairs required, return all pairs!')\n",
    "        index = range(total)\n",
    "    pairs = []\n",
    "    for i in index:\n",
    "        row, column = comb(i)\n",
    "        pairs.append((li[row], li[column]))\n",
    "    return pairs\n",
    "\n",
    "def sample_cross_group_pairs(list_of_groups, num_pairs):\n",
    "    '''sample `num_pairs` pairs per group pair\n",
    "    '''\n",
    "    num_groups = len(list_of_groups)\n",
    "    cross_pairs = []\n",
    "    for i in range(num_groups):\n",
    "        for j in range(i+1, num_groups):\n",
    "            len1, len2 = len(list_of_groups[i]), len(list_of_groups[j])\n",
    "            total =  len1 * len2\n",
    "            if num_pairs > total:\n",
    "                index = range(total)\n",
    "            else:\n",
    "                index = random.sample(range(total), num_pairs)\n",
    "            for k in index:\n",
    "                row = int(k/len2)\n",
    "                col = k % len2\n",
    "                cross_pairs.append((list_of_groups[i][row], list_of_groups[j][col]))\n",
    "    return cross_pairs\n",
    "\n",
    "def chunks(l, n):\n",
    "    \"\"\"Yield successive n-sized chunks from l.\"\"\"\n",
    "    for i in range(0, len(l), n):\n",
    "        yield l[i:i + n]"
   ]
  },
  {
   "cell_type": "code",
   "execution_count": 5,
   "metadata": {},
   "outputs": [],
   "source": [
    "def create_mm_network(numberOfNodes, numberOfEdges, numberOfCommunity, u):\n",
    "    newmanGraph = nx.Graph()\n",
    "    nlist = list(range(numberOfNodes))\n",
    "    newmanGraph.add_nodes_from(nlist)\n",
    "    edge_within_per = int((1-u)*numberOfEdges/numberOfCommunity)\n",
    "    edge_cross_per = int(u*numberOfEdges/((numberOfCommunity-1)*numberOfCommunity/2))\n",
    "    elist = []\n",
    "    communities = list(chunks(nlist, num_nodes//numberOfCommunity))\n",
    "    for group in communities:\n",
    "        elist.extend(sample_pairs(group, edge_within_per))\n",
    "    elist.extend(sample_cross_group_pairs(communities, edge_cross_per))\n",
    "    newmanGraph.add_edges_from(elist)\n",
    "    return newmanGraph, communities"
   ]
  },
  {
   "cell_type": "code",
   "execution_count": 6,
   "metadata": {},
   "outputs": [],
   "source": [
    "def simulation_ltm(G, thsh, seeds, frac=0.01):\n",
    "    time_step = 0\n",
    "    current = seeds\n",
    "    activation_time = {s_node: time_step for s_node in current}\n",
    "    activated_neighbors = defaultdict(int)\n",
    "    need_to_be_active = set()\n",
    "    while len(current) >= 1:\n",
    "        time_step += 1\n",
    "        candidate = set()\n",
    "        for u in current:\n",
    "            for w in G.neighbors(u):\n",
    "                if w not in activation_time and w not in need_to_be_active:\n",
    "                    candidate.add(w)\n",
    "                    activated_neighbors[w] += 1\n",
    "        for node in candidate:\n",
    "            if activated_neighbors[node]/len(G[node]) >= thsh:\n",
    "                need_to_be_active.add(node)\n",
    "        newly_activated = random.sample(need_to_be_active, int(frac*len(need_to_be_active)))\n",
    "        for node in newly_activated:\n",
    "            activation_time[node] = time_step\n",
    "            need_to_be_active.remove(node)\n",
    "        current = newly_activated\n",
    "    return (activation_time, time_step)"
   ]
  },
  {
   "cell_type": "markdown",
   "metadata": {},
   "source": [
    "## SBM networks"
   ]
  },
  {
   "cell_type": "code",
   "execution_count": 7,
   "metadata": {},
   "outputs": [],
   "source": [
    "num_nodes = 100000\n",
    "avg_degree = 10\n",
    "num_edges = num_nodes*avg_degree/2\n",
    "num_community = 2\n",
    "thsh = 0.35\n",
    "rho = 0.10\n",
    "num_seeds = int(rho*num_nodes)\n",
    "num_runs = 100\n",
    "f = 0.01"
   ]
  },
  {
   "cell_type": "code",
   "execution_count": 8,
   "metadata": {},
   "outputs": [],
   "source": [
    "us = np.arange(0, 0.51, 0.01)"
   ]
  },
  {
   "cell_type": "code",
   "execution_count": 36,
   "metadata": {},
   "outputs": [],
   "source": [
    "results = defaultdict(list)\n",
    "for u in us:\n",
    "    for i in range(num_runs):\n",
    "        G, communities = create_mm_network(num_nodes, num_edges, num_community, u)\n",
    "        seeds = random.sample(communities[0], num_seeds) # seeds exist only in A.\n",
    "        activation_time, step = simulation_ltm(G, thsh, seeds, frac=f)\n",
    "        activation_per_step = [[0]*step for i in range(len(communities))]\n",
    "        for i, group in zip(range(len(communities)), communities):\n",
    "            for node in group:\n",
    "                if node in activation_time:\n",
    "                    atime = activation_time[node]\n",
    "                    activation_per_step[i][atime] += 1\n",
    "        results[u].append((len(activation_time), step, activation_per_step))"
   ]
  },
  {
   "cell_type": "code",
   "execution_count": 37,
   "metadata": {},
   "outputs": [],
   "source": [
    "# with open(Data_Root+'simu_nodes_%sk_z_%s_thsh_%s_rho0_%s_f_%s.pickle'%(num_nodes//1000, avg_degree, thsh, rho, f), 'wb') as file:\n",
    "#     pickle.dump(dict(results), file)"
   ]
  },
  {
   "cell_type": "code",
   "execution_count": 9,
   "metadata": {},
   "outputs": [],
   "source": [
    "with open(Data_Root+'simu_nodes_%sk_z_%s_thsh_%s_rho0_%s_f_%s.pickle'%(num_nodes//1000, avg_degree, thsh, rho, f), 'rb') as file:\n",
    "    results = pickle.load(file)    "
   ]
  },
  {
   "cell_type": "markdown",
   "metadata": {},
   "source": [
    "### Avg diffusion speed and cascade size"
   ]
  },
  {
   "cell_type": "code",
   "execution_count": 10,
   "metadata": {},
   "outputs": [],
   "source": [
    "avg_rates, std_rates = [], []\n",
    "avg_sizes, std_sizes = [], []\n",
    "\n",
    "for u in us:\n",
    "    rates = [(size-num_seeds)/(num_nodes*step) for (size, step, activation_per_step) in results[u]]\n",
    "    avg_rates.append(np.mean(rates))\n",
    "    std_rates.append(np.std(rates))\n",
    "    sizes = [size/num_nodes for (size, step, activation_per_step) in results[u]]\n",
    "    avg_sizes.append(np.mean(sizes))\n",
    "    std_sizes.append(np.std(sizes))"
   ]
  },
  {
   "cell_type": "code",
   "execution_count": 11,
   "metadata": {},
   "outputs": [],
   "source": [
    "lower_u, upper_u = 'none', 'none'\n",
    "\n",
    "for u, avg_size in zip(us, avg_sizes):\n",
    "    if avg_size >= 0.99:\n",
    "        if lower_u == 'none':\n",
    "            lower_u = u\n",
    "        upper_u = u\n",
    "\n",
    "optimal_u = 0\n",
    "min_rate = min(avg_rates)\n",
    "for u, avg_rate in zip(us, avg_rates):\n",
    "    if u >= lower_u and u <= upper_u:\n",
    "        if avg_rate > min_rate:\n",
    "            optimal_u = u\n",
    "            min_rate = avg_rate"
   ]
  },
  {
   "cell_type": "code",
   "execution_count": 13,
   "metadata": {
    "scrolled": true
   },
   "outputs": [
    {
     "data": {
      "image/png": "[encoded data removed]",
      "text/plain": [
       "<Figure size 288x216 with 2 Axes>"
      ]
     },
     "metadata": {},
     "output_type": "display_data"
    }
   ],
   "source": [
    "fig, ax = plt.subplots(figsize = (4, 3))\n",
    "\n",
    "col1 = '#0057e7'\n",
    "\n",
    "# standard error\n",
    "ax.errorbar(us, avg_rates, yerr=CIs['95']*(std_rates/np.sqrt(num_runs)), color=col1, marker='o', linestyle='-', markersize = 3, linewidth = 2)\n",
    "ax.set_xlabel(r'$\\mu$')\n",
    "ax.set_ylabel('avg. diffusion speed', color=col1)\n",
    "ax.tick_params(axis='y', labelcolor = col1, direction='in')\n",
    "ax.axvspan(lower_u, upper_u, color='green', alpha=0.2, linewidth=0)\n",
    "ax.axvline(optimal_u, color='k', linestyle='--', linewidth = 0.8)\n",
    "ax.ticklabel_format(axis='y', style='sci', scilimits=(0,0))\n",
    "ax.set_ylim([0, 6e-4])\n",
    "\n",
    "col2 = '#d62d20'\n",
    "ax2 = ax.twinx()\n",
    "# ax2.get_shared_y_axes().join(ax, ax2)\n",
    "ax2.errorbar(us, avg_sizes, yerr=CIs['95']*(std_sizes/np.sqrt(num_runs)), color=col2, marker='o', linestyle='-', markersize = 3, linewidth = 2)\n",
    "ax2.set_ylabel('size of cascade', color=col2)\n",
    "ax2.tick_params(axis='y', labelcolor = col2, direction='in')\n",
    "\n",
    "# ax.set_title(r'$threshold={:.3}$'.format(thsh))\n",
    "plt.show()\n",
    "fig.savefig('mm_ltm_global_rate_size.pdf', bbox_inches='tight', pad_inches=0)"
   ]
  },
  {
   "cell_type": "markdown",
   "metadata": {},
   "source": [
    "### Temporal speed and size"
   ]
  },
  {
   "cell_type": "markdown",
   "metadata": {},
   "source": [
    "diffusion speed per time step"
   ]
  },
  {
   "cell_type": "code",
   "execution_count": 139,
   "metadata": {},
   "outputs": [
    {
     "data": {
      "image/png": "[encoded data removed]",
      "text/plain": [
       "<Figure size 432x180 with 3 Axes>"
      ]
     },
     "metadata": {},
     "output_type": "display_data"
    }
   ],
   "source": [
    "fig, axes = plt.subplots(1, len(cand_us), sharey=True, sharex=True, figsize = (6, 2.5))\n",
    "\n",
    "colors = ['b', 'r']\n",
    "labels = ['C1', 'C2']\n",
    "for i, u in zip(range(len(cand_us)), cand_us):\n",
    "    max_step = 0\n",
    "    for size, step, _ in results[u]:\n",
    "        if step > max_step:\n",
    "            max_step = step\n",
    "    xs = np.arange(max_step)\n",
    "    for j, col, label in zip(range(num_community), colors, labels):\n",
    "        mat = np.zeros((num_runs, max_step))\n",
    "        for m in range(num_runs):\n",
    "            activation_per_step = results[u][m][2][j]\n",
    "            for n in range(len(activation_per_step)):\n",
    "                mat[m, n] = activation_per_step[n]/(num_nodes*0.5)\n",
    "        avg_speed_step = np.mean(mat, axis=0)\n",
    "        axes[i].plot(xs[:-1], avg_speed_step[1:], label=label, color=col, linestyle='-', linewidth = 2)\n",
    "        axes[i].set_xlabel(r'time')\n",
    "        axes[i].set_title(r'$u={:3.2f}$'.format(u))\n",
    "        \n",
    "legend = axes[0].legend(loc='lower left', bbox_to_anchor=(0.2,0.65), labelspacing=0.2, frameon=True, numpoints=2, markerscale=1.2)\n",
    "axes[0].set_ylabel(r'speed')\n",
    "#axes[-1].set_xticks([0, 5, 10, 15, 20])\n",
    "fig.subplots_adjust(wspace=0)\n",
    "plt.show()\n",
    "fig.savefig('mm_ltm_speed_per_step.pdf', bbox_inches='tight', pad_inches=0)"
   ]
  },
  {
   "cell_type": "markdown",
   "metadata": {},
   "source": [
    "cascade size per time step"
   ]
  },
  {
   "cell_type": "code",
   "execution_count": 136,
   "metadata": {},
   "outputs": [],
   "source": [
    "cand_us = [lower_u, optimal_u, 0.21]"
   ]
  },
  {
   "cell_type": "code",
   "execution_count": 138,
   "metadata": {
    "scrolled": false
   },
   "outputs": [
    {
     "data": {
      "image/png": "[encoded data removed]",
      "text/plain": [
       "<Figure size 432x180 with 3 Axes>"
      ]
     },
     "metadata": {},
     "output_type": "display_data"
    }
   ],
   "source": [
    "fig, axes = plt.subplots(1, len(cand_us), sharey=True, sharex=True, figsize = (6, 2.5))\n",
    "\n",
    "colors = ['b', 'r']\n",
    "labels = ['C1', 'C2']\n",
    "for i, u in zip(range(len(cand_us)), cand_us):\n",
    "    max_step = 0\n",
    "    for size, step, _ in results[u]:\n",
    "        if step > max_step:\n",
    "            max_step = step\n",
    "    xs = np.arange(max_step)\n",
    "    for j, col, label in zip(range(num_community), colors, labels):\n",
    "        mat = np.ones((num_runs, max_step))\n",
    "        for m in range(num_runs):\n",
    "            activation_per_step = results[u][m][2][j]\n",
    "            cum_seq = np.cumsum(activation_per_step)/(num_nodes*0.5)\n",
    "            for n in range(len(cum_seq)):\n",
    "                mat[m, n] = cum_seq[n]\n",
    "        avg_cum_seq = np.mean(mat, axis=0)\n",
    "        axes[i].plot(xs, avg_cum_seq, label=label, color=col, linestyle='-', linewidth = 2)\n",
    "        axes[i].set_xlabel(r'time')\n",
    "        axes[i].set_title(r'$u={:3.2f}$'.format(u))\n",
    "        #axes[i].set_xlim([0, 20])\n",
    "        #axes[i].set_xticks([0, 5, 10, 15])\n",
    "        \n",
    "legend = axes[1].legend(loc='lower left', bbox_to_anchor=(0.4,0.55), labelspacing=0.2, frameon=True, numpoints=2, markerscale=1.2)\n",
    "axes[0].set_ylabel(r'cascade size')\n",
    "#axes[-1].set_xticks([0, 5, 10, 15, 20])\n",
    "fig.subplots_adjust(wspace=0)\n",
    "plt.show()\n",
    "fig.savefig('mm_ltm_cum_size.pdf', bbox_inches='tight', pad_inches=0)"
   ]
  },
  {
   "cell_type": "code",
   "execution_count": null,
   "metadata": {
    "collapsed": true
   },
   "outputs": [],
   "source": []
  }
 ],
 "metadata": {
  "kernelspec": {
   "display_name": "Python 3",
   "language": "python",
   "name": "python3"
  },
  "language_info": {
   "codemirror_mode": {
    "name": "ipython",
    "version": 3
   },
   "file_extension": ".py",
   "mimetype": "text/x-python",
   "name": "python",
   "nbconvert_exporter": "python",
   "pygments_lexer": "ipython3",
   "version": "3.6.7"
  }
 },
 "nbformat": 4,
 "nbformat_minor": 2
}
